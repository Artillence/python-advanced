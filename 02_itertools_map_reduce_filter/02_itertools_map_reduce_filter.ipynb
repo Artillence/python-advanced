{
 "cells": [
  {
   "cell_type": "code",
   "execution_count": null,
   "id": "cbef23da-6ec9-4179-a426-9a1a314d85e4",
   "metadata": {},
   "outputs": [],
   "source": [
    "# Haladó technikák használata: map, reduce, filter, itertools"
   ]
  },
  {
   "cell_type": "markdown",
   "id": "a561b795-0897-41c5-bdcf-28191afc1f6b",
   "metadata": {},
   "source": [
    "### Python Advanced Techniques: `map`, `reduce`, `filter`, and `itertools`\n",
    "\n",
    "#### Overview\n",
    "This course material aims to provide an in-depth understanding of advanced techniques in Python, specifically focusing on the usage of `map`, `reduce`, `filter`, and the `itertools` module. These techniques are essential for writing efficient and concise code, particularly in functional programming paradigms (Functional programming is a declarative programming paradigm style where one applies pure functions in sequence to solve complex problems).\n",
    "\n",
    "#### Prerequisites\n",
    "- Basic understanding of Python programming\n",
    "- Familiarity with functions and lambda expressions\n",
    "- Basic knowledge of lists and other iterable types\n"
   ]
  },
  {
   "cell_type": "markdown",
   "id": "35b8779d-2dd7-4005-8b25-5ea7a62b24cb",
   "metadata": {},
   "source": [
    "### Tutorial on Python Iterators\n",
    "\n",
    "Python iterators are a fundamental concept for handling sequences of data efficiently. They are widely used due to their memory efficiency and clear, readable syntax. This tutorial will cover:\n",
    "\n",
    "1. **What are Iterators?**\n",
    "2. **The Iterator Protocol**\n",
    "3. **Built-in Iterators and Iterable Objects**\n",
    "4. **Custom Iterators**\n",
    "5. **Generator Functions and Expressions**\n",
    "6. **Performance Characteristics**\n",
    "7. **Comparisons with Other Constructs**\n",
    "\n",
    "#### 1. What are Iterators?\n",
    "\n",
    "An iterator is an object that contains a countable number of values and can be iterated upon, meaning you can traverse through all the values. In Python, an iterator implements two essential methods: `__iter__()` and `__next__()`.\n",
    "\n",
    "**Example:**"
   ]
  },
  {
   "cell_type": "code",
   "execution_count": 1,
   "id": "e85fcc15-8227-4eb3-9aa6-2a57a2820579",
   "metadata": {},
   "outputs": [
    {
     "name": "stdout",
     "output_type": "stream",
     "text": [
      "1\n",
      "2\n",
      "3\n"
     ]
    },
    {
     "ename": "StopIteration",
     "evalue": "",
     "output_type": "error",
     "traceback": [
      "\u001b[1;31m---------------------------------------------------------------------------\u001b[0m",
      "\u001b[1;31mStopIteration\u001b[0m                             Traceback (most recent call last)",
      "Cell \u001b[1;32mIn[1], line 7\u001b[0m\n\u001b[0;32m      5\u001b[0m \u001b[38;5;28mprint\u001b[39m(\u001b[38;5;28mnext\u001b[39m(iterator))  \u001b[38;5;66;03m# Output: 2\u001b[39;00m\n\u001b[0;32m      6\u001b[0m \u001b[38;5;28mprint\u001b[39m(\u001b[38;5;28mnext\u001b[39m(iterator))  \u001b[38;5;66;03m# Output: 3\u001b[39;00m\n\u001b[1;32m----> 7\u001b[0m \u001b[38;5;28mprint\u001b[39m(\u001b[38;5;28;43mnext\u001b[39;49m\u001b[43m(\u001b[49m\u001b[43miterator\u001b[49m\u001b[43m)\u001b[49m)  \u001b[38;5;66;03m# Output: 3\u001b[39;00m\n",
      "\u001b[1;31mStopIteration\u001b[0m: "
     ]
    }
   ],
   "source": [
    "my_list = [1, 2, 3]\n",
    "iterator = iter(my_list)  # Creates an iterator from the list\n",
    "\n",
    "print(next(iterator))  # Output: 1\n",
    "print(next(iterator))  # Output: 2\n",
    "print(next(iterator))  # Output: 3\n",
    "print(next(iterator))  # Output: StopIteration exception: the iterator has been exhausted"
   ]
  },
  {
   "cell_type": "markdown",
   "id": "95ca17a6-b182-4714-b00c-91690377dc38",
   "metadata": {},
   "source": [
    "#### 2. The Iterator Protocol\n",
    "\n",
    "The Iterator Protocol is a fancy-sounding term that means \"the way Python's for loops work\". The iterator protocol consists of two methods:\n",
    "\n",
    "- `__iter__()`: This method returns the iterator object itself and is called once.\n",
    "- `__next__()`: This method returns the next value and raises a `StopIteration` exception when no more values are available.\n",
    "\n",
    "**Example of a simple iterator class:**"
   ]
  },
  {
   "cell_type": "code",
   "execution_count": 31,
   "id": "6aa07aa6-b027-4e88-9e57-e4ee0fbb5e14",
   "metadata": {},
   "outputs": [
    {
     "name": "stdout",
     "output_type": "stream",
     "text": [
      "1\n",
      "2\n",
      "3\n"
     ]
    }
   ],
   "source": [
    "class MyIterator:\n",
    "    def __init__(self, data):\n",
    "        self.data = data\n",
    "        self.index = 0\n",
    "\n",
    "    def __iter__(self):\n",
    "        return self\n",
    "\n",
    "    def __next__(self):\n",
    "        if self.index < len(self.data):\n",
    "            result = self.data[self.index]\n",
    "            self.index += 1\n",
    "            return result\n",
    "        else:\n",
    "            raise StopIteration\n",
    "\n",
    "my_iter = MyIterator([1, 2, 3])\n",
    "for item in my_iter:\n",
    "    print(item)"
   ]
  },
  {
   "cell_type": "markdown",
   "id": "a529d705-ce84-42e4-8c1d-79752b42b163",
   "metadata": {},
   "source": [
    "### Exercise: Fractional Range Iterator\n",
    "\n",
    "#### Objective:\n",
    "Build an advanced iterator class that generates fractional numbers within a given range. This exercise will help you practice creating custom iterators.\n",
    "\n",
    "#### Exercise Description:\n",
    "You are to create a custom iterator class `FractionalRange` that behaves similarly to Python's built-in `range()` [function](https://docs.python.org/3/library/functions.html#func-range) but supports fractional values. This class should accept three parameters: `start`, `stop`, and `step`. It should generate numbers starting from `start` up to but not including `stop`, with increments of `step`.\n",
    "\n",
    "1. **Initialization (`__init__`)**:\n",
    "   - `start`: The starting value of the sequence.\n",
    "   - `stop`: The end value of the sequence (not inclusive).\n",
    "   - `step`: The increment value for each step.\n",
    "\n",
    "2. **Iteration Methods**:\n",
    "   - `__iter__`: Should return the iterator object itself.\n",
    "   - `__next__`: Should return the next value in the sequence and raise `StopIteration` when the end of the range is reached.\n",
    "\n",
    "3. **Edge Cases**:\n",
    "   - Handle cases where `step` is zero (which should raise a `ValueError`).\n",
    "   - Ensure that if `start` is equal to `stop`, the iterator doesn't generate any values.\n",
    "\n",
    "#### Requirements:\n",
    "- Implement the `FractionalRange` class based on the above specifications.\n",
    "- Test the code using the presented test-cases to verify that the iterator works correctly with integer and fractional steps.\n",
    "- Make sure to handle potential edge cases and errors."
   ]
  },
  {
   "cell_type": "code",
   "execution_count": null,
   "id": "e8729a0c-dbd0-46bb-a903-3711a81ff09f",
   "metadata": {},
   "outputs": [],
   "source": [
    "\n",
    "# Step 1: implement the iterator class\n",
    "class FractionalRange:\n",
    "    # ...\n",
    "\n",
    "# Test code:\n",
    "print(\"Fractional range with integer step:\")\n",
    "for num in FractionalRange(0, 5, 1):\n",
    "    print(num)\n",
    "\n",
    "# Expected output:\n",
    "# Fractional range with integer step:\n",
    "# 0\n",
    "# 1\n",
    "# 2\n",
    "# 3\n",
    "# 4\n",
    "\n",
    "print(\"\\nFractional range with fractional step:\")\n",
    "for num in FractionalRange(0.5, 2.0, 0.5):\n",
    "    print(num)\n",
    "\n",
    "# Expected output:\n",
    "# Fractional range with fractional step:\n",
    "# 0.5\n",
    "# 1.0\n",
    "# 1.5\n",
    "\n",
    "print(\"\\nFractional range with negative step:\")\n",
    "for num in FractionalRange(5, 0, -1):\n",
    "    print(num)\n",
    "\n",
    "# Expected output:\n",
    "# Fractional range with negative step:\n",
    "# 5\n",
    "# 4\n",
    "# 3\n",
    "# 2\n",
    "# 1\n",
    "\n",
    "print(\"\\nEdge case with zero step:\")\n",
    "try:\n",
    "    for num in FractionalRange(0, 5, 0):\n",
    "        print(num)\n",
    "except ValueError as e:\n",
    "    print(e)\n",
    "\n",
    "# Expected output:\n",
    "# Edge case with zero step:\n",
    "# Step cannot be zero."
   ]
  },
  {
   "cell_type": "code",
   "execution_count": 6,
   "id": "99d1152b-3dcc-42cf-81ec-95a8ac75e9bf",
   "metadata": {
    "jupyter": {
     "source_hidden": true
    }
   },
   "outputs": [
    {
     "name": "stdout",
     "output_type": "stream",
     "text": [
      "Fractional range with integer step:\n",
      "0\n",
      "1\n",
      "2\n",
      "3\n",
      "4\n",
      "\n",
      "Fractional range with fractional step:\n",
      "0.5\n",
      "1.0\n",
      "1.5\n",
      "\n",
      "Fractional range with negative step:\n",
      "5\n",
      "4\n",
      "3\n",
      "2\n",
      "1\n",
      "\n",
      "Edge case with zero step:\n",
      "Step cannot be zero.\n"
     ]
    }
   ],
   "source": [
    "# Solution\n",
    "\n",
    "# Step 1: implement the iterator class\n",
    "class FractionalRange:\n",
    "    def __init__(self, start, stop, step):\n",
    "        if step == 0:\n",
    "            raise ValueError(\"Step cannot be zero.\")\n",
    "        self.start = start\n",
    "        self.stop = stop\n",
    "        self.step = step\n",
    "        self.current = start\n",
    "\n",
    "    def __iter__(self):\n",
    "        return self\n",
    "\n",
    "    def __next__(self):\n",
    "        if (self.step > 0 and self.current >= self.stop) or (self.step < 0 and self.current <= self.stop):\n",
    "            raise StopIteration\n",
    "        result = self.current\n",
    "        self.current += self.step\n",
    "        return result\n",
    "\n",
    "# Test code:\n",
    "print(\"Fractional range with integer step:\")\n",
    "for num in FractionalRange(0, 5, 1):\n",
    "    print(num)\n",
    "\n",
    "print(\"\\nFractional range with fractional step:\")\n",
    "for num in FractionalRange(0.5, 2.0, 0.5):\n",
    "    print(num)\n",
    "\n",
    "print(\"\\nFractional range with negative step:\")\n",
    "for num in FractionalRange(5, 0, -1):\n",
    "    print(num)\n",
    "\n",
    "print(\"\\nEdge case with zero step:\")\n",
    "try:\n",
    "    for num in FractionalRange(0, 5, 0):\n",
    "        print(num)\n",
    "except ValueError as e:\n",
    "    print(e)"
   ]
  },
  {
   "cell_type": "markdown",
   "id": "5c5778da-3b12-45cd-b4a4-f5f5245031cb",
   "metadata": {},
   "source": [
    "#### 3. Built-in Iterators and Iterable Objects\n",
    "\n",
    "Python provides several built-in iterable objects such as lists, tuples, and dictionaries. The `iter()` function can be used to obtain an iterator from these objects.\n",
    "\n",
    "**Example:**"
   ]
  },
  {
   "cell_type": "code",
   "execution_count": 7,
   "id": "f0d9badf-0faf-4f75-9b39-679949ee6d1a",
   "metadata": {},
   "outputs": [
    {
     "name": "stdout",
     "output_type": "stream",
     "text": [
      "1\n",
      "2\n",
      "3\n"
     ]
    }
   ],
   "source": [
    "my_list = [1, 2, 3]\n",
    "my_iter = iter(my_list)\n",
    "\n",
    "while True:\n",
    "    try:\n",
    "        print(next(my_iter))\n",
    "    except StopIteration:\n",
    "        break"
   ]
  },
  {
   "cell_type": "markdown",
   "id": "5ad22a02-ccb2-4740-90a1-ad9af96fe821",
   "metadata": {},
   "source": [
    "Iterating over dictionaries can be done through keys, values, or key-value pairs:"
   ]
  },
  {
   "cell_type": "code",
   "execution_count": 9,
   "id": "7e76983a-b2b0-4280-9d91-87b864dd7bcb",
   "metadata": {},
   "outputs": [
    {
     "name": "stdout",
     "output_type": "stream",
     "text": [
      "a\n",
      "b\n",
      "1\n",
      "2\n",
      "('a', 1)\n",
      "('b', 2)\n"
     ]
    }
   ],
   "source": [
    "my_dict = {'a': 1, 'b': 2}\n",
    "\n",
    "# Iterating over keys\n",
    "for key in my_dict:\n",
    "    print(key)\n",
    "\n",
    "# Iterating over values\n",
    "for value in my_dict.values():\n",
    "    print(value)\n",
    "\n",
    "# Iterating over key-value pairs\n",
    "for item in my_dict.items():\n",
    "    print(item)"
   ]
  },
  {
   "cell_type": "markdown",
   "id": "fb54d09e-0cec-43f3-8395-512e30171657",
   "metadata": {},
   "source": [
    "Files in Python are also iterable. You can loop through lines in a file:"
   ]
  },
  {
   "cell_type": "code",
   "execution_count": 11,
   "id": "54d5dc17-5c53-4556-8c4d-5acd56887adf",
   "metadata": {},
   "outputs": [
    {
     "name": "stdout",
     "output_type": "stream",
     "text": [
      "0 \t Hello, World!\n",
      "1 \t This is a test file.\n",
      "2 \t Each line will be printed separately.\n"
     ]
    }
   ],
   "source": [
    "# Step 1: Create and write to 'myfile.txt'\n",
    "with open('myfile.txt', 'w') as f:\n",
    "    f.write(\"Hello, World!\\n\")\n",
    "    f.write(\"This is a test file.\\n\")\n",
    "    f.write(\"Each line will be printed separately.\\n\")\n",
    "\n",
    "# Step 2: Read from 'myfile.txt' and print each line\n",
    "with open('myfile.txt', 'r') as f:\n",
    "    for idx, line in enumerate(f):\n",
    "        print(idx, \"\\t\", line.strip())"
   ]
  },
  {
   "cell_type": "markdown",
   "id": "417c6e46-7cfe-4283-980d-816302749c6a",
   "metadata": {},
   "source": [
    "#### 4. Custom Iterators\n",
    "\n",
    "You can create your own iterators by implementing the iterator protocol.\n",
    "\n",
    "**Example of a Fibonacci sequence iterator:**"
   ]
  },
  {
   "cell_type": "code",
   "execution_count": 44,
   "id": "ded1b74d-1202-4519-9694-54802b6fdcf5",
   "metadata": {},
   "outputs": [
    {
     "name": "stdout",
     "output_type": "stream",
     "text": [
      "1\n",
      "1\n",
      "2\n",
      "3\n",
      "5\n",
      "8\n",
      "13\n",
      "21\n",
      "34\n",
      "55\n",
      "89\n",
      "144\n"
     ]
    }
   ],
   "source": [
    "class Fibonacci:\n",
    "    def __init__(self, max_value):\n",
    "        self.max_value = max_value\n",
    "        self.a, self.b = 0, 1\n",
    "\n",
    "    def __iter__(self):\n",
    "        return self\n",
    "\n",
    "    def __next__(self):\n",
    "        if self.a > self.max_value:\n",
    "            raise StopIteration\n",
    "        else:\n",
    "            self.a, self.b = self.b, self.a + self.b\n",
    "            return self.a\n",
    "\n",
    "# Using the custom iterable\n",
    "for num in Fibonacci(100):\n",
    "    print(num)"
   ]
  },
  {
   "cell_type": "markdown",
   "id": "279f79ae-ef34-4f5d-84c1-a4786400c604",
   "metadata": {},
   "source": [
    "#### 5. Generator Functions and Expressions\n",
    "\n",
    "Generators are a simple way to create iterators using functions and the `yield` statement.\n",
    "\n",
    "**Example of a generator function:**"
   ]
  },
  {
   "cell_type": "code",
   "execution_count": 48,
   "id": "c0ebf964-1249-44d4-93d9-9376195dada7",
   "metadata": {},
   "outputs": [
    {
     "name": "stdout",
     "output_type": "stream",
     "text": [
      "0\n",
      "1\n",
      "2\n",
      "3\n",
      "4\n",
      "5\n",
      "6\n",
      "7\n",
      "8\n",
      "9\n",
      "10\n"
     ]
    }
   ],
   "source": [
    "def infinite_sequence():\n",
    "    num = 0\n",
    "    while True:\n",
    "        yield num\n",
    "        num += 1\n",
    "\n",
    "for idx, number in enumerate(infinite_sequence()):\n",
    "    print(number)\n",
    "    if idx == 10:\n",
    "        break"
   ]
  },
  {
   "cell_type": "markdown",
   "id": "d5a9ab98-8d28-4ae4-960e-42441e9ca05a",
   "metadata": {},
   "source": [
    "### Exercise: Create a Generator Function\n",
    "\n",
    "#### Objective:\n",
    "\n",
    "Define a generator function named `fibonacci_sequence` that yields an infinite sequence of Fibonacci numbers. The Fibonacci sequence starts with 0 and 1, and each subsequent number is the sum of the previous two numbers. For example: 0, 1, 1, 2, 3, 5, 8, 13, ..."
   ]
  },
  {
   "cell_type": "code",
   "execution_count": 14,
   "id": "53c71c0b-bc7f-4ee0-a4b9-3564101cc349",
   "metadata": {},
   "outputs": [
    {
     "name": "stdout",
     "output_type": "stream",
     "text": [
      "0\n",
      "1\n",
      "1\n",
      "2\n",
      "3\n",
      "5\n",
      "8\n",
      "13\n",
      "21\n",
      "34\n"
     ]
    }
   ],
   "source": [
    "# Implement the `fibonacci_sequence` generator function:\n",
    "def fibonacci_sequence():\n",
    "    # ...\n",
    "\n",
    "for idx, number in enumerate(fibonacci_sequence()):\n",
    "    print(number)\n",
    "    if idx == 9:\n",
    "        break\n",
    "\n",
    "# Expected output:\n",
    "# 0\n",
    "# 1\n",
    "# 1\n",
    "# 2\n",
    "# 3\n",
    "# 5\n",
    "# 8\n",
    "# 13\n",
    "# 21\n",
    "# 34"
   ]
  },
  {
   "cell_type": "code",
   "execution_count": 15,
   "id": "b54692d0-24b3-4c8a-bfc3-5daea12a1373",
   "metadata": {
    "jupyter": {
     "source_hidden": true
    }
   },
   "outputs": [
    {
     "name": "stdout",
     "output_type": "stream",
     "text": [
      "0\n",
      "1\n",
      "1\n",
      "2\n",
      "3\n",
      "5\n",
      "8\n",
      "13\n",
      "21\n",
      "34\n"
     ]
    }
   ],
   "source": [
    "# Solution\n",
    "\n",
    "def fibonacci_sequence():\n",
    "    a, b = 0, 1\n",
    "    while True:\n",
    "        yield a\n",
    "        a, b = b, a + b\n",
    "\n",
    "for idx, number in enumerate(fibonacci_sequence()):\n",
    "    print(number)\n",
    "    if idx == 9:\n",
    "        break"
   ]
  },
  {
   "cell_type": "markdown",
   "id": "8a221e03-d77f-4953-9766-330a1d788711",
   "metadata": {},
   "source": [
    "##### Generator expressions provide a concise way to create generators.\n",
    "\n",
    "**Example of a generator expression:**"
   ]
  },
  {
   "cell_type": "code",
   "execution_count": 18,
   "id": "755216a0-1c97-4798-afff-b45dc2837586",
   "metadata": {},
   "outputs": [
    {
     "name": "stdout",
     "output_type": "stream",
     "text": [
      "0\n",
      "1\n",
      "4\n",
      "9\n",
      "16\n"
     ]
    }
   ],
   "source": [
    "gen_exp = (x * x for x in range(5))\n",
    "for num in gen_exp:\n",
    "    print(num)"
   ]
  },
  {
   "cell_type": "markdown",
   "id": "126430a4-2ad8-4f8b-8166-671c31d64130",
   "metadata": {},
   "source": [
    "### Exercise:\n",
    "\n",
    "#### Objective:\n",
    "Write a generator expression that yields tuples containing each number from 1 to 10 and its square. Use this generator expression to print the tuples."
   ]
  },
  {
   "cell_type": "code",
   "execution_count": null,
   "id": "fdac1697-6940-46e0-b89f-6f282dd71132",
   "metadata": {},
   "outputs": [],
   "source": [
    "# Complete the following code:\n",
    "number_and_squares = # ...\n",
    "\n",
    "for number, square in number_and_squares:\n",
    "    print(f'Number: {number}, Square: {square}')\n",
    "\n",
    "# Expected output:\n",
    "# Number: 1, Square: 1\n",
    "# Number: 2, Square: 4\n",
    "# Number: 3, Square: 9\n",
    "# Number: 4, Square: 16\n",
    "# Number: 5, Square: 25\n",
    "# Number: 6, Square: 36\n",
    "# Number: 7, Square: 49\n",
    "# Number: 8, Square: 64\n",
    "# Number: 9, Square: 81\n",
    "# Number: 10, Square: 100"
   ]
  },
  {
   "cell_type": "code",
   "execution_count": 13,
   "id": "b5c23d40-dd40-409f-9f96-f1adc8dd99a7",
   "metadata": {
    "jupyter": {
     "source_hidden": true
    }
   },
   "outputs": [
    {
     "name": "stdout",
     "output_type": "stream",
     "text": [
      "Number: 1, Square: 1\n",
      "Number: 2, Square: 4\n",
      "Number: 3, Square: 9\n",
      "Number: 4, Square: 16\n",
      "Number: 5, Square: 25\n",
      "Number: 6, Square: 36\n",
      "Number: 7, Square: 49\n",
      "Number: 8, Square: 64\n",
      "Number: 9, Square: 81\n",
      "Number: 10, Square: 100\n"
     ]
    }
   ],
   "source": [
    "# Solution\n",
    "\n",
    "number_and_squares = ((x, x**2) for x in range(1, 11))\n",
    "\n",
    "for number, square in number_and_squares:\n",
    "    print(f'Number: {number}, Square: {square}')\n"
   ]
  },
  {
   "cell_type": "markdown",
   "id": "dac2a663-e07a-4449-877d-da9e214c8254",
   "metadata": {},
   "source": [
    "#### 6. Performance Characteristics\n",
    "\n",
    "Iterators, especially generators, are memory efficient because they yield items one at a time rather than generating the entire list at once. This can be contrasted with list comprehensions, which generate the entire list in memory.\n",
    "\n",
    "**Memory usage comparison:**"
   ]
  },
  {
   "cell_type": "code",
   "execution_count": 19,
   "id": "27b7cc57-a66e-4bf5-a1a3-947ae2e82d73",
   "metadata": {},
   "outputs": [
    {
     "name": "stdout",
     "output_type": "stream",
     "text": [
      "Size of list comprehension 8448728\n",
      "Size of generator expression 200\n"
     ]
    }
   ],
   "source": [
    "import sys\n",
    "\n",
    "# List comprehension\n",
    "list_comp = [x * x for x in range(1000000)]\n",
    "print(\"Size of list comprehension\", sys.getsizeof(list_comp))\n",
    "\n",
    "# Generator expression\n",
    "gen_exp = (x * x for x in range(1000000))\n",
    "print(\"Size of generator expression\", sys.getsizeof(gen_exp))"
   ]
  },
  {
   "cell_type": "markdown",
   "id": "aa2820b4-299e-41e0-a93a-dde5c1a358b9",
   "metadata": {},
   "source": [
    "In the above example, the list comprehension creates a list of a million items in memory, whereas the generator expression yields one item at a time."
   ]
  },
  {
   "cell_type": "code",
   "execution_count": 30,
   "id": "3a08580c-94d2-4720-b1b3-04be72c266b8",
   "metadata": {},
   "outputs": [
    {
     "name": "stdout",
     "output_type": "stream",
     "text": [
      "sum_list_comp()\n",
      " Real time: 2.33 seconds\n",
      " CPU time: 2.30 seconds\n",
      "\n",
      "sum_gen_exp()\n",
      " Real time: 2.13 seconds\n",
      " CPU time: 2.05 seconds\n",
      "\n"
     ]
    }
   ],
   "source": [
    "import time\n",
    "\n",
    "def measure_performance(func):\n",
    "    def wrapper(*args, **kwargs):\n",
    "        t1 = time.perf_counter(), time.process_time()\n",
    "        result = func(*args, **kwargs)\n",
    "        t2 = time.perf_counter(), time.process_time()\n",
    "        print(f\"{func.__name__}()\")\n",
    "        print(f\" Real time: {t2[0] - t1[0]:.2f} seconds\")\n",
    "        print(f\" CPU time: {t2[1] - t1[1]:.2f} seconds\")\n",
    "        print()\n",
    "        return result\n",
    "    return wrapper\n",
    "\n",
    "@measure_performance\n",
    "def sum_list_comp(n=10000000):\n",
    "    list_comp = [x * x for x in range(n)]\n",
    "    return sum(list_comp)\n",
    "\n",
    "@measure_performance\n",
    "def sum_gen_exp(n=10000000):\n",
    "    gen_exp = (x * x for x in range(n))\n",
    "    return sum(gen_exp)\n",
    "\n",
    "# Test the functions\n",
    "n = 10000000\n",
    "_ = sum_list_comp(n)\n",
    "_ = sum_gen_exp(n)"
   ]
  },
  {
   "cell_type": "markdown",
   "id": "1ae9251a-9a97-4d76-8030-6bfb06fa9514",
   "metadata": {},
   "source": [
    "In this example:\n",
    "\n",
    " - `sum_list_comp` takes more real time because of the overhead of generating and storing the entire list in memory.\n",
    " - `sum_gen_exp` is faster in terms of real time because it processes items one at a time, thus requiring less memory and potentially less time overall."
   ]
  },
  {
   "cell_type": "markdown",
   "id": "bb5c69ef-bf0a-4476-80b6-09757d21e65c",
   "metadata": {},
   "source": [
    "### Side Note: The Efficiency of `range`\n",
    "\n",
    "In Python, the `range` object is a highly efficient iterable that generates numbers on-the-fly without storing them in memory. This efficiency extends to operations like membership testing with the `in` keyword.\n",
    "\n",
    "Consider the expression:"
   ]
  },
  {
   "cell_type": "code",
   "execution_count": 25,
   "id": "5b4b4d2b-3a4a-49a1-8983-3da78f8a32d8",
   "metadata": {},
   "outputs": [
    {
     "data": {
      "text/plain": [
       "True"
      ]
     },
     "execution_count": 25,
     "metadata": {},
     "output_type": "execute_result"
    }
   ],
   "source": [
    "1_000_000_000_000_000_000_000 in range(0, 1_000_000_000_000_000_000_001, 10)"
   ]
  },
  {
   "cell_type": "markdown",
   "id": "233eeefa-0cdb-4c93-867f-3aa8554efe9b",
   "metadata": {},
   "source": [
    "Here, `1_000_000_000_000_000_000_000` is being checked for membership within a `range` that starts at 0 and ends at `1_000_000_000_000_000_000_001` with a step of 10. Despite the enormous size of the `range`, the membership test is instantaneous.\n",
    "\n",
    "This is because `range` objects are not actually storing all possible values; instead, they compute the membership check using a formula. The `__contains__` method can efficiently determine whether a value is part of the sequence by checking if it fits the arithmetic progression defined by the `range` parameters. This method is implemented to provide constant time complexity for membership tests (`O(1)`), thanks to the way `range` calculates whether a number falls within its bounds.\n"
   ]
  },
  {
   "cell_type": "markdown",
   "id": "a8c3b555-1d7a-499a-89a7-b48ab4ae5569",
   "metadata": {},
   "source": [
    "#### 7. Comparisons with Other Constructs\n",
    "\n",
    "**Iterators vs. Lists:**\n",
    "- **Memory Usage:** Iterators are more memory efficient.\n",
    "- **Performance:** Iterators can be slower for small data sizes due to the overhead of the `__next__` method calls, but for large datasets, they are more efficient.\n",
    "\n",
    "**Iterators vs. List Comprehensions:**\n",
    "- **Syntax:** List comprehensions are often more readable for simple use cases.\n",
    "- **Use Cases:** Use iterators for large data processing where memory efficiency is crucial."
   ]
  },
  {
   "cell_type": "markdown",
   "id": "34f77e69-fa34-48f2-972e-bdb283490dca",
   "metadata": {},
   "source": [
    "### 1. The `map` Function\n",
    "The `map` function applies a given function to all items in an input list (or any iterable) and returns an iterator.\n",
    "\n",
    "**Syntax**:\n",
    "```python\n",
    "map(function, iterable, ...)\n",
    "```\n",
    "\n",
    "**Example**:"
   ]
  },
  {
   "cell_type": "code",
   "execution_count": 31,
   "id": "9aa40920-26bf-4322-8c23-05432db26f21",
   "metadata": {},
   "outputs": [
    {
     "name": "stdout",
     "output_type": "stream",
     "text": [
      "[1, 4, 9, 16, 25]\n"
     ]
    }
   ],
   "source": [
    "def square(x):\n",
    "    return x * x\n",
    "\n",
    "numbers = [1, 2, 3, 4, 5]\n",
    "squared_numbers = map(square, numbers)\n",
    "print(list(squared_numbers))  # Output: [1, 4, 9, 16, 25]"
   ]
  },
  {
   "cell_type": "markdown",
   "id": "5aeeb78e-ae22-476a-b55c-9940d895adba",
   "metadata": {},
   "source": [
    "**Using lambda**:"
   ]
  },
  {
   "cell_type": "code",
   "execution_count": 32,
   "id": "4acd9dca-8635-4b18-9099-8ffc609fbcf4",
   "metadata": {},
   "outputs": [
    {
     "name": "stdout",
     "output_type": "stream",
     "text": [
      "[1, 4, 9, 16, 25]\n"
     ]
    }
   ],
   "source": [
    "numbers = [1, 2, 3, 4, 5]\n",
    "squared_numbers = map(lambda x: x * x, numbers)\n",
    "print(list(squared_numbers))  # Output: [1, 4, 9, 16, 25]"
   ]
  },
  {
   "cell_type": "markdown",
   "id": "9c49fe8e-de28-4c70-aac7-c3a0c0fabb36",
   "metadata": {},
   "source": [
    "**Practical examples**:"
   ]
  },
  {
   "cell_type": "code",
   "execution_count": 33,
   "id": "259fc366-04e0-49a5-a5fd-d792095d1b56",
   "metadata": {},
   "outputs": [
    {
     "name": "stdout",
     "output_type": "stream",
     "text": [
      "Converting Temperatures from Celsius to Fahrenheit [32.0, 68.0, 86.0, 104.0]\n",
      "Converting Strings to Lowercase ['hello', 'world', 'python']\n",
      "Adding Two Lists Element-wise [5, 7, 9]\n",
      "Extracting First Elements from List of Tuples [1, 2, 3]\n",
      "Formatting Dates ['01/01/2021', '02/02/2022', '03/03/2023']\n",
      "Combining First Names and Last Names ['John Smith', 'Jane Doe', 'Doe Ray']\n"
     ]
    }
   ],
   "source": [
    "celsius = [0, 20, 30, 40]\n",
    "fahrenheit = list(map(lambda x: (x * 9/5) + 32, celsius))\n",
    "print(\"Converting Temperatures from Celsius to Fahrenheit\", fahrenheit)\n",
    "\n",
    "strings = ['HELLO', 'World', 'Python']\n",
    "lowercase_strings = list(map(str.lower, strings))\n",
    "print(\"Converting Strings to Lowercase\", lowercase_strings)\n",
    "\n",
    "list1 = [1, 2, 3]\n",
    "list2 = [4, 5, 6]\n",
    "summed_lists = list(map(lambda x, y: x + y, list1, list2))\n",
    "print(\"Adding Two Lists Element-wise\", summed_lists)\n",
    "\n",
    "tuples = [(1, 'a'), (2, 'b'), (3, 'c')]\n",
    "first_elements = list(map(lambda x: x[0], tuples))\n",
    "print(\"Extracting First Elements from List of Tuples\", first_elements)\n",
    "\n",
    "import datetime\n",
    "dates = ['2021-01-01', '2022-02-02', '2023-03-03']\n",
    "formatted_dates = list(map(lambda date: datetime.datetime.strptime(date, '%Y-%m-%d').strftime('%d/%m/%Y'), dates))\n",
    "print(\"Formatting Dates\", formatted_dates)\n",
    "\n",
    "first_names = ['John', 'Jane', 'Doe']\n",
    "last_names = ['Smith', 'Doe', 'Ray']\n",
    "full_names = list(map(lambda fn, ln: f\"{fn} {ln}\", first_names, last_names))\n",
    "print(\"Combining First Names and Last Names\", full_names)"
   ]
  },
  {
   "cell_type": "markdown",
   "id": "21769bb6-205c-4c23-93dc-3d4a1d3d183c",
   "metadata": {},
   "source": [
    "### 2. The `reduce` Function\n",
    "The `reduce` function from the `functools` module applies a rolling computation to sequential pairs of values in a list.\n",
    "\n",
    "**Syntax**:\n",
    "```python\n",
    "from functools import reduce\n",
    "reduce(function, iterable[, initializer])\n",
    "```\n",
    "\n",
    "**Example**:"
   ]
  },
  {
   "cell_type": "code",
   "execution_count": 34,
   "id": "916b1198-69a8-43ac-ae8e-1a4145f7c7f3",
   "metadata": {},
   "outputs": [
    {
     "name": "stdout",
     "output_type": "stream",
     "text": [
      "15\n"
     ]
    }
   ],
   "source": [
    "from functools import reduce\n",
    "\n",
    "def add(x, y):\n",
    "    return x + y\n",
    "\n",
    "numbers = [1, 2, 3, 4, 5]\n",
    "total = reduce(add, numbers)\n",
    "print(total)  # Output: 15"
   ]
  },
  {
   "cell_type": "markdown",
   "id": "952aad64-d70c-44cd-b85b-883168359c27",
   "metadata": {},
   "source": [
    "**Using lambda**:"
   ]
  },
  {
   "cell_type": "code",
   "execution_count": 35,
   "id": "47af7df4-386f-4e85-a999-a3ae62a7e1fa",
   "metadata": {},
   "outputs": [
    {
     "name": "stdout",
     "output_type": "stream",
     "text": [
      "15\n"
     ]
    }
   ],
   "source": [
    "numbers = [1, 2, 3, 4, 5]\n",
    "total = reduce(lambda x, y: x + y, numbers)\n",
    "print(total)  # Output: 15"
   ]
  },
  {
   "cell_type": "markdown",
   "id": "1b930bb8-f61c-43e9-85d8-548a13ab2d48",
   "metadata": {},
   "source": [
    "### 3. The `filter` Function\n",
    "The `filter` function constructs an iterator from elements of an iterable for which a function returns true.\n",
    "\n",
    "**Syntax**:\n",
    "```python\n",
    "filter(function, iterable)\n",
    "```\n",
    "\n",
    "**Example**:"
   ]
  },
  {
   "cell_type": "code",
   "execution_count": 36,
   "id": "a18e79dc-54b9-4707-9ce0-cd6f6d552e67",
   "metadata": {},
   "outputs": [
    {
     "name": "stdout",
     "output_type": "stream",
     "text": [
      "[2, 4, 6]\n"
     ]
    }
   ],
   "source": [
    "def is_even(x):\n",
    "    return x % 2 == 0\n",
    "\n",
    "numbers = [1, 2, 3, 4, 5, 6]\n",
    "even_numbers = filter(is_even, numbers)\n",
    "print(list(even_numbers))  # Output: [2, 4, 6]"
   ]
  },
  {
   "cell_type": "markdown",
   "id": "eda1c4b7-bc22-4afb-9399-4d1b9e0cab6d",
   "metadata": {},
   "source": [
    "**Using lambda**:"
   ]
  },
  {
   "cell_type": "code",
   "execution_count": 37,
   "id": "d67b1b07-4e40-4000-978d-2ff9825e99b4",
   "metadata": {},
   "outputs": [
    {
     "name": "stdout",
     "output_type": "stream",
     "text": [
      "[2, 4, 6]\n"
     ]
    }
   ],
   "source": [
    "numbers = [1, 2, 3, 4, 5, 6]\n",
    "even_numbers = filter(lambda x: x % 2 == 0, numbers)\n",
    "print(list(even_numbers))  # Output: [2, 4, 6]"
   ]
  },
  {
   "cell_type": "markdown",
   "id": "ac1d454c-47b4-4be4-9cfa-7ae90dd600ed",
   "metadata": {},
   "source": [
    "### 4. The `itertools` Module\n",
    "The `itertools` module implements a number of iterator building blocks inspired by constructs from APL, Haskell, and SML. This module standardizes a core set of fast, memory-efficient tools that are useful by themselves or in combination.\n",
    "\n",
    "The itertools module provides various functions that return iterators. Examples include:\n",
    "\n",
    " - `count(start=0, step=1)`: Make an iterator that returns evenly spaced values beginning with start.\n",
    " - `cycle(iterable)`: Cycles through an iterable indefinitely.\n",
    " - `repeat(object, times=None)`: Repeats a value indefinitely.\n",
    "\n",
    "**Example Using itertools**"
   ]
  },
  {
   "cell_type": "code",
   "execution_count": 38,
   "id": "ef769efb-679f-4c09-ba92-81d565295d1b",
   "metadata": {},
   "outputs": [
    {
     "name": "stdout",
     "output_type": "stream",
     "text": [
      "5\n",
      "7\n",
      "9\n",
      "11\n",
      "13\n",
      "15\n"
     ]
    }
   ],
   "source": [
    "import itertools\n",
    "\n",
    "for num in itertools.count(start=5, step=2):\n",
    "    if num > 15:\n",
    "        break\n",
    "    print(num)"
   ]
  },
  {
   "cell_type": "markdown",
   "id": "a7726d85-f257-4db3-b47c-53ad97fd67e5",
   "metadata": {},
   "source": [
    "\n",
    "#### 4.1. `itertools.chain`\n",
    "Combines several iterables into one long iterable.\n",
    "\n",
    "**Example**:"
   ]
  },
  {
   "cell_type": "code",
   "execution_count": 39,
   "id": "09db0c70-eee4-4314-a13c-b8201d379b03",
   "metadata": {},
   "outputs": [
    {
     "name": "stdout",
     "output_type": "stream",
     "text": [
      "[1, 2, 3, 4, 5, 6]\n"
     ]
    }
   ],
   "source": [
    "import itertools\n",
    "\n",
    "list1 = [1, 2, 3]\n",
    "list2 = [4, 5, 6]\n",
    "combined = itertools.chain(list1, list2)\n",
    "print(list(combined))  # Output: [1, 2, 3, 4, 5, 6]"
   ]
  },
  {
   "cell_type": "markdown",
   "id": "517d5343-22ea-44ff-a3bc-f7a6f7fef07e",
   "metadata": {},
   "source": [
    "#### 4.2. `itertools.cycle`\n",
    "Repeats an iterable indefinitely.\n",
    "\n",
    "**Example**:"
   ]
  },
  {
   "cell_type": "code",
   "execution_count": 40,
   "id": "a4d0dae8-ce9a-4916-9720-614e298f89d2",
   "metadata": {},
   "outputs": [
    {
     "name": "stdout",
     "output_type": "stream",
     "text": [
      "1 2 3 1 2 3 1 2 3 1 "
     ]
    }
   ],
   "source": [
    "import itertools\n",
    "\n",
    "cycle_iter = itertools.cycle([1, 2, 3])\n",
    "for i in range(10):\n",
    "    print(next(cycle_iter), end=\" \")  # Output: 1 2 3 1 2 3 1 2 3 1"
   ]
  },
  {
   "cell_type": "markdown",
   "id": "3e025a92-5b7d-4a12-9786-804036f077f9",
   "metadata": {},
   "source": [
    "#### 4.3. `itertools.count`\n",
    "Returns evenly spaced values starting with a specified number.\n",
    "\n",
    "**Example**:"
   ]
  },
  {
   "cell_type": "code",
   "execution_count": 41,
   "id": "f1979ad0-21b2-494c-bd3d-2c7eff29c102",
   "metadata": {},
   "outputs": [
    {
     "name": "stdout",
     "output_type": "stream",
     "text": [
      "10 12 14 16 18 "
     ]
    }
   ],
   "source": [
    "import itertools\n",
    "\n",
    "counter = itertools.count(start=10, step=2)\n",
    "for i in range(5):\n",
    "    print(next(counter), end=\" \")  # Output: 10 12 14 16 18"
   ]
  },
  {
   "cell_type": "markdown",
   "id": "b80d7c2f-6c66-4149-8800-b05a6d0cf547",
   "metadata": {},
   "source": [
    "#### 4.4. `itertools.groupby`\n",
    "Groups consecutive elements in an iterable that have the same key.\n",
    "\n",
    "**Example**:"
   ]
  },
  {
   "cell_type": "code",
   "execution_count": 42,
   "id": "c48e9083-1c90-4b94-aba7-3da99a8fdc42",
   "metadata": {},
   "outputs": [
    {
     "name": "stdout",
     "output_type": "stream",
     "text": [
      "a [('a', 1), ('a', 2)]\n",
      "b [('b', 3), ('b', 4)]\n",
      "a [('a', 5)]\n"
     ]
    }
   ],
   "source": [
    "import itertools\n",
    "\n",
    "data = [('a', 1), ('a', 2), ('b', 3), ('b', 4), ('a', 5)]\n",
    "grouped_data = itertools.groupby(data, key=lambda x: x[0])\n",
    "\n",
    "for key, group in grouped_data:\n",
    "    print(key, list(group))\n",
    "# Output:\n",
    "# a [('a', 1), ('a', 2)]\n",
    "# b [('b', 3), ('b', 4)]\n",
    "# a [('a', 5)]"
   ]
  },
  {
   "cell_type": "markdown",
   "id": "d62390a5-69e8-4c2e-b306-3cc0d454a379",
   "metadata": {},
   "source": [
    "To group all occurrences of an item, sort the iterable first."
   ]
  },
  {
   "cell_type": "code",
   "execution_count": 43,
   "id": "85a7a526-2959-4f41-a74f-c75957b821bb",
   "metadata": {},
   "outputs": [
    {
     "name": "stdout",
     "output_type": "stream",
     "text": [
      "a [('a', 1), ('a', 2), ('a', 5)]\n",
      "b [('b', 3), ('b', 4)]\n"
     ]
    }
   ],
   "source": [
    "import itertools\n",
    "\n",
    "data = [('a', 1), ('a', 2), ('b', 3), ('b', 4), ('a', 5)]\n",
    "data.sort(key=lambda x: x[0])\n",
    "grouped_data = itertools.groupby(data, key=lambda x: x[0])\n",
    "\n",
    "for key, group in grouped_data:\n",
    "    print(key, list(group))\n",
    "# Output:\n",
    "# a [('a', 1), ('a', 2)]\n",
    "# b [('b', 3), ('b', 4)]\n",
    "# a [('a', 5)]"
   ]
  },
  {
   "cell_type": "markdown",
   "id": "f6d9394f-cdaa-49d6-a65e-a41ddcd83c40",
   "metadata": {},
   "source": [
    "### Exercises\n",
    "1. **Exercise 1**: Use `map` to convert a list of strings to uppercase.\n",
    "2. **Exercise 2**: Use `reduce` to find the product of a list of numbers.\n",
    "3. **Exercise 3**: Use `filter` to find all numbers greater than 10 in a list.\n",
    "4. **Exercise 4**: Use `itertools.chain` to merge three different lists.\n",
    "5. **Exercise 5**: Use `itertools.groupby` to group a list of tuples by the first element."
   ]
  },
  {
   "cell_type": "markdown",
   "id": "bc8bc4c3-4a10-4b2f-8a27-aa4cb3233f40",
   "metadata": {},
   "source": [
    "### Exercise 1: Use `map` to Convert a List of Strings to Uppercase\n",
    "**Objective:** Transform all the strings in a list to uppercase using the `map` function."
   ]
  },
  {
   "cell_type": "code",
   "execution_count": 44,
   "id": "9d945df8-d90e-45f2-a0d5-51230af2ec01",
   "metadata": {},
   "outputs": [],
   "source": [
    "strings = [\"hello\", \"world\", \"python\", \"is\", \"awesome\"]\n",
    "\n",
    "# Expected output: [\"HELLO\", \"WORLD\", \"PYTHON\", \"IS\", \"AWESOME\"]"
   ]
  },
  {
   "cell_type": "code",
   "execution_count": 45,
   "id": "575dfffc-668e-4ae8-95fc-d11070ab2d90",
   "metadata": {
    "jupyter": {
     "source_hidden": true
    }
   },
   "outputs": [
    {
     "name": "stdout",
     "output_type": "stream",
     "text": [
      "['HELLO', 'WORLD', 'PYTHON', 'IS', 'AWESOME']\n"
     ]
    }
   ],
   "source": [
    "# Solution\n",
    "\n",
    "strings = [\"hello\", \"world\", \"python\", \"is\", \"awesome\"]\n",
    "\n",
    "uppercase_strings = list(map(str.upper, strings))\n",
    "\n",
    "print(uppercase_strings)"
   ]
  },
  {
   "cell_type": "markdown",
   "id": "5aadb2fa-ad68-43e2-8d50-b19706708151",
   "metadata": {},
   "source": [
    "### Exercise 2: Use `reduce` to Find the Product of a List of Numbers\n",
    "**Objective:** Calculate the product of all numbers in a list using the `reduce` function from the `functools` module."
   ]
  },
  {
   "cell_type": "code",
   "execution_count": 46,
   "id": "d83982b2-e6e8-467f-a4d5-e919fd8141f2",
   "metadata": {},
   "outputs": [],
   "source": [
    "numbers = [1, 2, 3, 4, 5]\n",
    "\n",
    "# Expected output: 120"
   ]
  },
  {
   "cell_type": "code",
   "execution_count": 47,
   "id": "8a8d78f8-5cfe-47a9-83aa-acdc4b118f6c",
   "metadata": {
    "jupyter": {
     "source_hidden": true
    }
   },
   "outputs": [
    {
     "name": "stdout",
     "output_type": "stream",
     "text": [
      "120\n"
     ]
    }
   ],
   "source": [
    "# Solution\n",
    "\n",
    "from functools import reduce\n",
    "\n",
    "numbers = [1, 2, 3, 4, 5]\n",
    "product = reduce(lambda x, y: x * y, numbers)\n",
    "print(product)"
   ]
  },
  {
   "cell_type": "markdown",
   "id": "3574e2e1-9018-4dd1-ad40-1d6740eb977c",
   "metadata": {},
   "source": [
    "### Exercise 3: Use `filter` to Find All Numbers Greater Than 10 in a List\n",
    "**Objective:** Filter out all numbers greater than 10 from a list using the `filter` function."
   ]
  },
  {
   "cell_type": "code",
   "execution_count": 48,
   "id": "bbf9ed16-1221-4287-b873-34f41def0470",
   "metadata": {},
   "outputs": [],
   "source": [
    "numbers = [4, 11, 8, 15, 3, 22, 7]\n",
    "\n",
    "# Expected output: [11, 15, 22]"
   ]
  },
  {
   "cell_type": "code",
   "execution_count": 49,
   "id": "b161c52b-fd5a-4995-a9e7-3aa5445cd7df",
   "metadata": {
    "jupyter": {
     "source_hidden": true
    }
   },
   "outputs": [
    {
     "name": "stdout",
     "output_type": "stream",
     "text": [
      "[11, 15, 22]\n"
     ]
    }
   ],
   "source": [
    "# Solution\n",
    "\n",
    "numbers = [4, 11, 8, 15, 3, 22, 7]\n",
    "filtered_numbers = list(filter(lambda x: x > 10, numbers))\n",
    "print(filtered_numbers)"
   ]
  },
  {
   "cell_type": "markdown",
   "id": "2a8d0f83-a4e6-428c-aa90-5f1ddc78d177",
   "metadata": {},
   "source": [
    "### Exercise 4: Use `itertools.chain` to Merge Three Different Lists\n",
    "**Objective:** Combine three lists into one using the `chain` function from the `itertools` module."
   ]
  },
  {
   "cell_type": "code",
   "execution_count": 50,
   "id": "cc987054-38b3-4fa3-bdba-ee4cbe2aa959",
   "metadata": {},
   "outputs": [],
   "source": [
    "list1 = [1, 2, 3]\n",
    "list2 = [\"a\", \"b\", \"c\"]\n",
    "list3 = [True, False, True]\n",
    "\n",
    "# Expected output: [1, 2, 3, 'a', 'b', 'c', True, False, True]"
   ]
  },
  {
   "cell_type": "code",
   "execution_count": 51,
   "id": "adeb4840-22e6-4c65-a617-90fb0cba8687",
   "metadata": {
    "jupyter": {
     "source_hidden": true
    }
   },
   "outputs": [
    {
     "name": "stdout",
     "output_type": "stream",
     "text": [
      "[1, 2, 3, 'a', 'b', 'c', True, False, True]\n"
     ]
    }
   ],
   "source": [
    "# Solution\n",
    "\n",
    "from itertools import chain\n",
    "\n",
    "list1 = [1, 2, 3]\n",
    "list2 = [\"a\", \"b\", \"c\"]\n",
    "list3 = [True, False, True]\n",
    "\n",
    "merged_list = list(chain(list1, list2, list3))\n",
    "print(merged_list)"
   ]
  },
  {
   "cell_type": "markdown",
   "id": "f60015da-110c-49a3-b036-25a90f2492fa",
   "metadata": {},
   "source": [
    "### Exercise 5: Use `itertools.groupby` to Group a List of Tuples by the First Element\n",
    "**Objective:** Group a list of tuples by their first element using the `groupby` function from the `itertools` module."
   ]
  },
  {
   "cell_type": "code",
   "execution_count": 52,
   "id": "5a272145-0d59-498a-ab70-c9be79f0c86f",
   "metadata": {},
   "outputs": [],
   "source": [
    "tuples = [(1, 'a'), (2, 'b'), (1, 'c'), (2, 'd'), (1, 'e')]\n",
    "\n",
    "# Expected output:\n",
    "# 1: [(1, 'a'), (1, 'c'), (1, 'e')]\n",
    "# 2: [(2, 'b'), (2, 'd')]"
   ]
  },
  {
   "cell_type": "code",
   "execution_count": 53,
   "id": "61f46286-1f82-4c60-b598-997a1e94ae1a",
   "metadata": {
    "jupyter": {
     "source_hidden": true
    }
   },
   "outputs": [
    {
     "name": "stdout",
     "output_type": "stream",
     "text": [
      "1: [(1, 'a'), (1, 'c'), (1, 'e')]\n",
      "2: [(2, 'b'), (2, 'd')]\n"
     ]
    }
   ],
   "source": [
    "# Solution\n",
    "\n",
    "from itertools import groupby\n",
    "\n",
    "tuples = [(1, 'a'), (2, 'b'), (1, 'c'), (2, 'd'), (1, 'e')]\n",
    "sorted_tuples = sorted(tuples, key=lambda x: x[0])\n",
    "grouped_tuples = {key: list(group) for key, group in groupby(sorted_tuples, key=lambda x: x[0])}\n",
    "\n",
    "for key, group in grouped_tuples.items():\n",
    "    print(f\"{key}: {group}\")"
   ]
  },
  {
   "cell_type": "markdown",
   "id": "e3e85928-9c52-4fc8-b0ca-b6da52e3d6a2",
   "metadata": {},
   "source": [
    "### Summary\n",
    "Understanding and utilizing these advanced techniques—`map`, `reduce`, `filter`, and `itertools`—allows for more expressive and efficient Python code, particularly in data processing and functional programming scenarios. Experiment with these tools to become proficient and leverage their full potential in your projects.\n",
    "\n",
    "### Sources\n",
    "\n",
    " - [itertools — Functions creating iterators for efficient looping](https://docs.python.org/3/library/itertools.html)\n",
    " - [Python built-in range function documentation](https://docs.python.org/3/library/functions.html#func-range)"
   ]
  },
  {
   "cell_type": "markdown",
   "id": "a298afb1-a2de-4e8e-8746-73fc9adf162c",
   "metadata": {},
   "source": [
    "### Advanced Exercise: Process a List of Dictionaries to Extract and Transform Data\n",
    "\n",
    "**Objective:** Combine the use of `map`, `filter`, `reduce`, and `itertools` to process a list of dictionaries. The task is to extract specific data, transform it, filter the results, and finally compute a summary statistic.\n",
    "\n",
    "**Instructions:**\n",
    "1. You have a list of dictionaries representing sales data. Each dictionary contains the following keys: `'item'`, `'price'`, and `'quantity'`.\n",
    "2. Extract the total revenue (price * quantity) for each sale.\n",
    "3. Filter out sales where the total revenue is less than a given threshold.\n",
    "4. Calculate the total revenue of the filtered sales.\n",
    "5. Calculate the total quantity sold for each filtered item."
   ]
  },
  {
   "cell_type": "code",
   "execution_count": 54,
   "id": "eae983f1-ef16-40ef-85fa-9f1f7e125e2f",
   "metadata": {},
   "outputs": [],
   "source": [
    "sales_data = [\n",
    "    {\"item\": \"apple\", \"price\": 1.0, \"quantity\": 10},\n",
    "    {\"item\": \"banana\", \"price\": 0.5, \"quantity\": 20},\n",
    "    {\"item\": \"orange\", \"price\": 1.2, \"quantity\": 5},\n",
    "    {\"item\": \"apple\", \"price\": 1.0, \"quantity\": 15},\n",
    "    {\"item\": \"banana\", \"price\": 0.5, \"quantity\": 5},\n",
    "    {\"item\": \"orange\", \"price\": 1.2, \"quantity\": 10}\n",
    "]\n",
    "\n",
    "threshold = 10  # Minimum revenue threshold\n",
    "\n",
    "\n",
    "# Expected output:\n",
    "# Total revenue of filtered sales: 47.0\n",
    "# Quantity sold per item:\n",
    "# apple: 25\n",
    "# banana: 20\n",
    "# orange: 10"
   ]
  },
  {
   "cell_type": "code",
   "execution_count": 55,
   "id": "c8a77ae9-63cd-4bab-ad6c-c85dc8fbe147",
   "metadata": {
    "jupyter": {
     "source_hidden": true
    }
   },
   "outputs": [
    {
     "name": "stdout",
     "output_type": "stream",
     "text": [
      "Total revenue of filtered sales: 47.0\n",
      "Quantity sold per item:\n",
      "apple: 25\n",
      "banana: 20\n",
      "orange: 10\n"
     ]
    }
   ],
   "source": [
    "# Solution\n",
    "\n",
    "from functools import reduce\n",
    "from itertools import groupby\n",
    "\n",
    "# Step 1: Define the sales data and threshold\n",
    "sales_data = [\n",
    "    {\"item\": \"apple\", \"price\": 1.0, \"quantity\": 10},\n",
    "    {\"item\": \"banana\", \"price\": 0.5, \"quantity\": 20},\n",
    "    {\"item\": \"orange\", \"price\": 1.2, \"quantity\": 5},\n",
    "    {\"item\": \"apple\", \"price\": 1.0, \"quantity\": 15},\n",
    "    {\"item\": \"banana\", \"price\": 0.5, \"quantity\": 5},\n",
    "    {\"item\": \"orange\", \"price\": 1.2, \"quantity\": 10}\n",
    "]\n",
    "\n",
    "threshold = 10  # Minimum revenue threshold\n",
    "\n",
    "# Step 2: Extract total revenue for each sale\n",
    "total_revenues = map(lambda sale: {**sale, \"total_revenue\": sale[\"price\"] * sale[\"quantity\"]}, sales_data)\n",
    "\n",
    "# Step 3: Filter sales by total revenue threshold\n",
    "filtered_sales = filter(lambda sale: sale[\"total_revenue\"] >= threshold, total_revenues)\n",
    "\n",
    "# Convert the iterator to an iterable so that we can iterate over it multiple times without exhausting it\n",
    "filtered_sales = list(filtered_sales)\n",
    "\n",
    "# Step 4: Calculate the total revenue of the filtered sales\n",
    "total_revenue = reduce(lambda acc, sale: acc + sale[\"total_revenue\"], filtered_sales, 0)\n",
    "\n",
    "# Step 5: Group the sales by item and calculate the total quantity sold for each item\n",
    "# First, sort the filtered sales by item\n",
    "filtered_sales.sort(key=lambda sale: sale[\"item\"])\n",
    "# Then, group by item and calculate total quantities\n",
    "grouped_by = groupby(filtered_sales, key=lambda sale: sale[\"item\"])\n",
    "grouped_sales = {key: sum(sale[\"quantity\"] for sale in group) for key, group in grouped_by}\n",
    "\n",
    "# Output the results\n",
    "print(f\"Total revenue of filtered sales: {total_revenue}\")\n",
    "print(\"Quantity sold per item:\")\n",
    "for item, total_quantity in grouped_sales.items():\n",
    "    print(f\"{item}: {total_quantity}\")\n"
   ]
  }
 ],
 "metadata": {
  "kernelspec": {
   "display_name": "Python 3 (ipykernel)",
   "language": "python",
   "name": "python3"
  },
  "language_info": {
   "codemirror_mode": {
    "name": "ipython",
    "version": 3
   },
   "file_extension": ".py",
   "mimetype": "text/x-python",
   "name": "python",
   "nbconvert_exporter": "python",
   "pygments_lexer": "ipython3",
   "version": "3.12.4"
  }
 },
 "nbformat": 4,
 "nbformat_minor": 5
}
