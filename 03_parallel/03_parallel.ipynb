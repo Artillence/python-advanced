{
 "cells": [
  {
   "cell_type": "code",
   "execution_count": null,
   "id": "ce53e089-73dd-4cdb-9304-5fb82d153200",
   "metadata": {},
   "outputs": [],
   "source": [
    "# Párhuzamos programozás: multiprocesszing, multithreading, aszinkron"
   ]
  },
  {
   "cell_type": "markdown",
   "id": "b727c49b-f8f5-4068-9876-fcdf1be5345a",
   "metadata": {},
   "source": [
    "## Course Material: Parallel Programming in Python\n",
    "\n",
    "### Overview\n",
    "Parallel programming is a technique to run multiple operations concurrently, thereby reducing the time to complete a task. Python offers several ways to achieve parallelism, including multiprocessing, multithreading, and asynchronous programming. In addition, libraries like CuPy, Numba, and cuDF can leverage GPU capabilities to further enhance performance.\n",
    "\n",
    "### Learning Objectives\n",
    "- Understand the concepts of parallel programming.\n",
    "- Learn the differences between multiprocessing, multithreading, and asynchronous programming.\n",
    "- Utilize Python's standard library for parallelism.\n",
    "- Explore advanced libraries such as CuPy, Numba, and cuDF for GPU-based parallelism."
   ]
  },
  {
   "cell_type": "markdown",
   "id": "be670b90-6458-4a3d-a9a4-71f2ec514bc9",
   "metadata": {},
   "source": [
    "### 1. Multithreading\n",
    "\n",
    "**Concept:** Multithreading is the parallel execution of tasks using threads. Python's `threading` module allows you to create threads and manage them. It's suitable for I/O-bound tasks due to Python's Global Interpreter Lock (GIL).\n",
    "\n",
    "**Notes on Parallelism in Python**\n",
    "\n",
    " - On POSIX systems, `fork()` is used to create new processes which may cause deadlocks.\n",
    "Starting from python 3.14, `spawn()` will be the default for creating new processes [[1](https://pythonspeed.com/articles/python-multiprocessing/)][[2](https://github.com/python/cpython/issues/84559)].\n",
    " - Work is being done to remove the GIL from the CPython implementation [[1](https://developer.vonage.com/en/blog/removing-pythons-gil-its-happening)][[2](https://peps.python.org/pep-0703/)].\n",
    "\n",
    "**Example:**"
   ]
  },
  {
   "cell_type": "code",
   "execution_count": 1,
   "id": "73f0542f-475d-4b3c-ae64-eaf6ebf59c99",
   "metadata": {},
   "outputs": [
    {
     "name": "stdout",
     "output_type": "stream",
     "text": [
      "Worker: 0Worker: 1\n",
      "\n",
      "Worker: 2\n",
      "Worker: 3\n",
      "Worker: 4\n",
      "Worker 2 doneWorker 3 done\n",
      "Worker 1 done\n",
      "\n",
      "Worker 0 done\n",
      "Worker 4 done\n"
     ]
    }
   ],
   "source": [
    "import threading\n",
    "import time\n",
    "\n",
    "def worker(num):\n",
    "    \"\"\"Thread worker function\"\"\"\n",
    "    print(f'Worker: {num}')\n",
    "    time.sleep(2)\n",
    "    print(f'Worker {num} done')\n",
    "\n",
    "threads = []\n",
    "for i in range(5):\n",
    "    t = threading.Thread(target=worker, args=(i,))\n",
    "    threads.append(t)\n",
    "    t.start()\n",
    "\n",
    "for t in threads:\n",
    "    t.join()"
   ]
  },
  {
   "cell_type": "markdown",
   "id": "d4731c6b-d069-4fad-b34e-470fd6ac09f2",
   "metadata": {},
   "source": [
    "**Explanation:** This script spawns five threads that execute the `worker` function concurrently. Each thread sleeps for 2 seconds before completing.\n",
    "\n",
    "A thread pool allows you to manage a pool of threads and submit tasks to it without manually creating and managing individual threads.\n",
    "\n",
    "Let's enhance the previous example by using a thread pool from Python's `concurrent.futures` module."
   ]
  },
  {
   "cell_type": "code",
   "execution_count": 2,
   "id": "6601572c-47ee-4760-8126-6f4db039047c",
   "metadata": {},
   "outputs": [
    {
     "name": "stdout",
     "output_type": "stream",
     "text": [
      "Worker: 0\n",
      "Worker: 1\n",
      "Worker: 2\n",
      "Worker 0 done\n",
      "Worker: 3\n",
      "Worker 1 done\n",
      "Worker: 4\n",
      "Worker 2 done\n",
      "Worker 3 done\n",
      "Worker 4 done\n",
      "All workers have completed.\n"
     ]
    }
   ],
   "source": [
    "from concurrent.futures import ThreadPoolExecutor\n",
    "import time\n",
    "\n",
    "def worker(num):\n",
    "    \"\"\"Thread worker function\"\"\"\n",
    "    print(f'Worker: {num}')\n",
    "    time.sleep(2)\n",
    "    print(f'Worker {num} done')\n",
    "\n",
    "# Number of threads in the pool\n",
    "num_threads = 3\n",
    "\n",
    "# Create a ThreadPoolExecutor\n",
    "with ThreadPoolExecutor(max_workers=num_threads) as executor:\n",
    "    # Submit tasks to the executor\n",
    "    futures = [executor.submit(worker, i) for i in range(5)]\n",
    "\n",
    "    # Wait for all futures to complete\n",
    "    for future in futures:\n",
    "        # You can call future.result() here if you need to catch exceptions\n",
    "        # or get return values from the worker function\n",
    "        future.result()\n",
    "\n",
    "print(\"All workers have completed.\")"
   ]
  },
  {
   "cell_type": "markdown",
   "id": "050db8bb-9b6b-4151-a887-ca74f544bdc2",
   "metadata": {},
   "source": [
    "### Explanation:\n",
    "1. **ThreadPoolExecutor**: We use `ThreadPoolExecutor` from the `concurrent.futures` module to manage a pool of threads. The `max_workers` parameter specifies the maximum number of threads that can be active at the same time. \n",
    "\n",
    "2. **Submitting Tasks**: We use `executor.submit(worker, i)` to submit tasks to the thread pool. This returns a `Future` object representing the execution of the function. \n",
    "\n",
    "3. **Waiting for Completion**: `future.result()` is called to block until the individual task completes. If an exception was raised during task execution, it will be re-raised when calling `result()`, allowing you to handle it.\n",
    "\n",
    "4. **Context Manager**: The `with` statement ensures that the `ThreadPoolExecutor` is properly cleaned up and closed after use.\n",
    "\n",
    "This example uses a pool of 3 threads to execute 5 tasks. Tasks are managed by the thread pool, which handles the concurrency for you, making your code more concise and easier to manage."
   ]
  },
  {
   "cell_type": "markdown",
   "id": "6ffc4ead-c90b-433b-91f8-e19c3f08ab68",
   "metadata": {},
   "source": [
    "### 2. Multiprocessing\n",
    "\n",
    "**Concept:** Multiprocessing involves using multiple CPU cores to perform parallel tasks. Python’s `multiprocessing` module allows you to create processes, share data between them, and manage process pools.\n",
    "\n",
    "**Example:**"
   ]
  },
  {
   "cell_type": "code",
   "execution_count": 4,
   "id": "092d834d-89f2-45a0-b75e-6770beeb8a3f",
   "metadata": {},
   "outputs": [],
   "source": [
    "import multiprocessing\n",
    "import os\n",
    "\n",
    "def worker(num):\n",
    "    \"\"\"Thread worker function\"\"\"\n",
    "    print(f'Worker: {num}, PID: {os.getpid()}')\n",
    "\n",
    "if __name__ == '__main__':\n",
    "    jobs = []\n",
    "    for i in range(5):\n",
    "        p = multiprocessing.Process(target=worker, args=(i,))\n",
    "        jobs.append(p)\n",
    "        p.start()"
   ]
  },
  {
   "cell_type": "markdown",
   "id": "0264edd4-b3e0-4c68-9387-86795977b58d",
   "metadata": {},
   "source": [
    "When running the previous multiprocessing code in a JupyterLab notebook, it might seem like nothing happens because of how JupyterLab handles multiprocessing.\n",
    "JupyterLab, which uses an interactive environment, can have issues with multiprocessing due to the way it manages I/O and process spawning."
   ]
  },
  {
   "cell_type": "markdown",
   "id": "1241eb0d-36fb-4640-9060-ad1bcb8d0355",
   "metadata": {},
   "source": [
    "---\n",
    "\n",
    "Switch to VSCode\n",
    "---\n",
    "\n",
    "1. Open the `03_parallel` directory in VSCode.\n",
    "2. Open the `03_parallel.py` file in the editor.\n",
    "3. Inspect the code.\n",
    "4. Open the `03_parallel` directory in the terminal.\n",
    "5. Activate the virtual environment in the terminal: `C:\\Users\\Administrator\\python-advanced\\venv\\Scripts\\activate`\n",
    "6. Run the `03_parallel.py` file, using the following command: `python 03_parallel.py`\n",
    "\n",
    "---"
   ]
  },
  {
   "cell_type": "markdown",
   "id": "4aef2a48-94fc-4316-825e-c02c0ed1d8ff",
   "metadata": {},
   "source": [
    "### 3. Asynchronous Programming\n",
    "\n",
    "**Concept:** Asynchronous programming allows you to run tasks asynchronously using coroutines, which are special functions that can pause and resume their execution. The `asyncio` module facilitates writing single-threaded concurrent code.\n",
    "\n",
    "**Example:**"
   ]
  },
  {
   "cell_type": "code",
   "execution_count": 6,
   "id": "d82f590a-ca56-439f-92d4-ca1d13af77d6",
   "metadata": {},
   "outputs": [
    {
     "name": "stdout",
     "output_type": "stream",
     "text": [
      "Worker: 0\n",
      "Worker: 1\n",
      "Worker: 2\n",
      "Worker: 3\n",
      "Worker: 4\n",
      "Worker 0 done\n",
      "Worker 2 done\n",
      "Worker 4 done\n",
      "Worker 1 done\n",
      "Worker 3 done\n"
     ]
    }
   ],
   "source": [
    "import asyncio\n",
    "\n",
    "async def worker(num):\n",
    "    \"\"\"Async worker function\"\"\"\n",
    "    print(f'Worker: {num}')\n",
    "    await asyncio.sleep(2)\n",
    "    print(f'Worker {num} done')\n",
    "\n",
    "async def main():\n",
    "    tasks = [worker(i) for i in range(5)]\n",
    "    await asyncio.gather(*tasks)\n",
    "\n",
    "# asyncio.run(main())\n",
    "await main()"
   ]
  },
  {
   "cell_type": "markdown",
   "id": "645c4a4a-ba21-4f63-849c-7f38c8d25c51",
   "metadata": {},
   "source": [
    "**Explanation:** This script runs five coroutines concurrently using `asyncio`. Each coroutine sleeps for 2 seconds before completing.\n",
    "\n",
    "**Note:** In JupyterLab, you use `await main()` instead of `asyncio.run(main())` because JupyterLab's event loop is already running. Using `await` allows you to work within this existing event loop, while `asyncio.run()` tries to start a new event loop, which can cause conflicts or errors."
   ]
  },
  {
   "cell_type": "markdown",
   "id": "a90578a5-5908-4f95-8721-44ddae434e69",
   "metadata": {},
   "source": [
    "### **Asyncio vs Threads**\n",
    "\n",
    "**Asyncio:**\n",
    "- **Definition**: Asyncio is a library used to write concurrent code using the `async`/`await` syntax. It is part of the Python standard library from Python 3.5+.\n",
    "- **Event Loop**: Central to asyncio, the event loop runs asynchronous tasks and callbacks, performs network IO operations, and runs subprocesses.\n",
    "- **Concurrency Model**: Cooperative multitasking, where tasks yield control back to the event loop at await points, allowing other tasks to run.\n",
    "\n",
    "**Threads:**\n",
    "- **Definition**: Threads are a way to achieve concurrency by running multiple threads (smaller units of a process) in parallel. Python’s threading module provides high-level support for threads.\n",
    "- **Concurrency Model**: Pre-emptive multitasking, where the operating system decides when a thread is interrupted and another is run.\n",
    "\n",
    "### **Programming Model**\n",
    "\n",
    "**Asyncio:**\n",
    "- **Code Style**: Uses `async def` to declare asynchronous functions and `await` to yield control.\n",
    "- **Complexity**: Requires understanding of coroutines and the event-driven programming model.\n",
    "- **Examples**:\n",
    "    ```python\n",
    "    import asyncio\n",
    "\n",
    "    async def main():\n",
    "        await asyncio.sleep(1)\n",
    "        print(\"Hello, world!\")\n",
    "\n",
    "    asyncio.run(main())\n",
    "    ```\n",
    "\n",
    "**Threads:**\n",
    "- **Code Style**: Uses the `threading` module, creating threads by subclassing `Thread` or directly instantiating `Thread` objects.\n",
    "- **Complexity**: Easier to grasp for those familiar with traditional multi-threading but requires careful handling of shared resources to avoid race conditions.\n",
    "- **Examples**:\n",
    "    ```python\n",
    "    import threading, time\n",
    "\n",
    "    def worker():\n",
    "        time.sleep(1)\n",
    "        print(\"Hello, world!\")\n",
    "\n",
    "    thread = threading.Thread(target=worker)\n",
    "    thread.start()\n",
    "    thread.join()\n",
    "    ```\n",
    "\n",
    "### **Integration and Ecosystem**\n",
    "\n",
    "**Asyncio:**\n",
    "- **Integration**: Well-integrated with modern Python libraries and frameworks (e.g., `aiohttp`, `FastAPI`).\n",
    "- **Ecosystem**: Growing ecosystem, especially for network-related and async-compatible libraries.\n",
    "\n",
    "**Threads:**\n",
    "- **Integration**: Supported by virtually all Python libraries, as threading is a fundamental part of many applications.\n",
    "- **Ecosystem**: Mature ecosystem with extensive support in the standard library and third-party modules.\n"
   ]
  },
  {
   "cell_type": "markdown",
   "id": "52a1c1a0-d608-410e-bc87-5ed5b835ca0e",
   "metadata": {},
   "source": [
    "---\n",
    "\n",
    "Switch to [Google Colab](https://colab.research.google.com/drive/18KgT9cFa4MCBk2tyhb_9-YGux3aWVWsd)\n",
    "---\n",
    "\n",
    "---"
   ]
  },
  {
   "cell_type": "markdown",
   "id": "3f0dfaba-a29e-4998-94a8-eed45d981b38",
   "metadata": {},
   "source": [
    "### 4. GPU-based Parallelism\n",
    "\n",
    "#### 4.1. CuPy\n",
    "\n",
    "**Concept:** CuPy is a GPU array library that leverages NVIDIA CUDA to accelerate computations.\n",
    "\n",
    "**Example:**\n",
    "\n",
    "```python\n",
    "import cupy as cp\n",
    "\n",
    "# Create a random array on the GPU\n",
    "x = cp.random.rand(1000000)\n",
    "\n",
    "# Perform elementwise operations\n",
    "y = cp.sin(x)\n",
    "\n",
    "# Transfer data back to the host (CPU)\n",
    "y_host = cp.asnumpy(y)\n",
    "\n",
    "print(y_host[:10])\n",
    "```\n",
    "\n",
    "**Explanation:** This script generates a large random array on the GPU, computes the sine of each element, and transfers the result back to the CPU.\n",
    "\n",
    "#### 4.2. Numba\n",
    "\n",
    "**Concept:** Numba is a JIT compiler that translates a subset of Python and NumPy code into fast machine code.\n",
    "\n",
    "**Example:**\n",
    "\n",
    "```python\n",
    "from numba import jit\n",
    "import numpy as np\n",
    "\n",
    "@jit(nopython=True)\n",
    "def sum_2d_array(arr):\n",
    "    m, n = arr.shape\n",
    "    result = 0.0\n",
    "    for i in range(m):\n",
    "        for j in range(n):\n",
    "            result += arr[i, j]\n",
    "    return result\n",
    "\n",
    "arr = np.random.rand(1000, 1000)\n",
    "result = sum_2d_array(arr)\n",
    "print(result)\n",
    "```\n",
    "\n",
    "**Explanation:** This script uses Numba to compile a function that sums a 2D array, significantly speeding up the computation compared to pure Python.\n",
    "\n",
    "#### 4.3. cuDF\n",
    "\n",
    "**Concept:** cuDF is a GPU DataFrame library that provides a pandas-like API for manipulating large datasets with GPU acceleration.\n",
    "\n",
    "**Example:**\n",
    "\n",
    "```python\n",
    "import cudf\n",
    "import pandas as pd\n",
    "\n",
    "# Create a DataFrame on the CPU\n",
    "pdf = pd.DataFrame({'a': [1, 2, 3], 'b': [4, 5, 6]})\n",
    "\n",
    "# Transfer it to the GPU\n",
    "gdf = cudf.DataFrame.from_pandas(pdf)\n",
    "\n",
    "# Perform operations on the GPU\n",
    "gdf['c'] = gdf['a'] + gdf['b']\n",
    "\n",
    "print(gdf)\n",
    "```\n",
    "\n",
    "**Explanation:** This script creates a pandas DataFrame, transfers it to the GPU, performs an elementwise addition, and prints the resulting cuDF DataFrame.\n",
    "\n",
    "---\n",
    "\n",
    "### Summary\n",
    "\n",
    "- **Multiprocessing:** Suitable for CPU-bound tasks. Utilizes multiple CPU cores.\n",
    "- **Multithreading:** Suitable for I/O-bound tasks. Utilizes multiple threads.\n",
    "- **Asynchronous:** Suitable for I/O-bound tasks. Uses coroutines for concurrency.\n",
    "- **CuPy:** GPU array library for fast numerical computations.\n",
    "- **Numba:** JIT compiler for fast machine code generation.\n",
    "- **cuDF:** GPU DataFrame library for handling large datasets.\n",
    "\n",
    "### Exercises\n",
    "\n",
    "1. **Multiprocessing:** Modify the multiprocessing example to calculate the sum of squares for a list of numbers using multiple processes.\n",
    "2. **Multithreading:** Modify the multithreading example to read multiple files concurrently and print their content.\n",
    "3. **Asynchronous:** Write an asynchronous program to fetch data from multiple URLs concurrently.\n",
    "4. **CuPy:** Implement matrix multiplication using CuPy and compare the performance with NumPy.\n",
    "5. **Numba:** Use Numba to optimize a function that computes the Mandelbrot set.\n",
    "6. **cuDF:** Load a large CSV file into a cuDF DataFrame and perform some basic data analysis operations.\n",
    "\n",
    "### Sources\n",
    "\n",
    " - [\"Why your multiprocessing Pool is stuck (it’s full of sharks!)\" - Python fork deadlock](https://pythonspeed.com/articles/python-multiprocessing/)\n",
    " - [multiprocessing's default posix start method of 'fork' is broken: change to 'spawn' #84559](https://github.com/python/cpython/issues/84559)\n",
    " - [Removing Python's GIL: It's Happening!](https://developer.vonage.com/en/blog/removing-pythons-gil-its-happening)]\n",
    " - [PEP 703 – Making the Global Interpreter Lock Optional in CPython](https://peps.python.org/pep-0703/)\n",
    "\n",
    "### Further Reading\n",
    "\n",
    "- Python [concurrent.futures.ProcessPoolExecutor](https://docs.python.org/3/library/concurrent.futures.html#concurrent.futures.ProcessPoolExecutor).\n",
    "- Python [multiprocessing](https://docs.python.org/3/library/multiprocessing.html) documentation.\n",
    "- Python [threading](https://docs.python.org/3/library/threading.html) documentation.\n",
    "- Python [asyncio](https://docs.python.org/3/library/asyncio.html) documentation.\n",
    "- [CuPy](https://docs.cupy.dev/en/stable/) documentation.\n",
    "- [Numba](https://numba.pydata.org/) documentation.\n",
    "- [cuDF](https://docs.rapids.ai/api/cudf/stable/) documentation."
   ]
  },
  {
   "cell_type": "markdown",
   "id": "b8a120af-fa39-4b40-8c5a-7dc24c54ca13",
   "metadata": {},
   "source": [
    "# Thread vs Process\n",
    "\n",
    "A comparison is presented in `99_parallel.py`. Run this file from VSCode to inspect the results."
   ]
  }
 ],
 "metadata": {
  "kernelspec": {
   "display_name": "Python 3 (ipykernel)",
   "language": "python",
   "name": "python3"
  },
  "language_info": {
   "codemirror_mode": {
    "name": "ipython",
    "version": 3
   },
   "file_extension": ".py",
   "mimetype": "text/x-python",
   "name": "python",
   "nbconvert_exporter": "python",
   "pygments_lexer": "ipython3",
   "version": "3.12.4"
  }
 },
 "nbformat": 4,
 "nbformat_minor": 5
}
