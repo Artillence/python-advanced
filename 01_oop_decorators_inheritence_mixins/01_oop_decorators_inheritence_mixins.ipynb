{
 "cells": [
  {
   "cell_type": "code",
   "execution_count": null,
   "id": "a05351cf-cf67-49bc-bc02-0734d1f8f5cc",
   "metadata": {},
   "outputs": [],
   "source": [
    "# Haladó objektum orientált programozás: dekorátor, többes öröklés"
   ]
  },
  {
   "cell_type": "markdown",
   "id": "3fe67e4a-e2e6-4ff3-ba19-63709c6a2593",
   "metadata": {},
   "source": [
    "## Advanced Object-Oriented Programming in Python: Decorator, Multiple Inheritance\n",
    "\n",
    "### Course Outline\n",
    "\n",
    "1. **Introduction to Advanced OOP Concepts**\n",
    "    - Overview of Advanced OOP\n",
    "    - Importance of Decorators and Multiple Inheritance\n",
    "\n",
    "2. **Decorators**\n",
    "    - What are Decorators?\n",
    "    - Function Decorators\n",
    "    - Class Decorators\n",
    "    - Practical Examples and Use Cases\n",
    "\n",
    "3. **Multiple Inheritance**\n",
    "    - Understanding Inheritance\n",
    "    - Basics of Multiple Inheritance\n",
    "    - Method Resolution Order (MRO)\n",
    "    - Diamond Problem and Solutions\n",
    "    - Practical Examples and Use Cases\n",
    "\n",
    "4. **Combining Decorators and Multiple Inheritance**\n",
    "    - Use Cases of Combining Both Concepts\n",
    "    - Best Practices and Patterns\n",
    "\n",
    "5. **Exercises and Projects**\n",
    "    - Practical Exercises\n",
    "    - Mini Project\n"
   ]
  },
  {
   "cell_type": "markdown",
   "id": "6e274712-326c-46d4-94e0-b505e53c2fe0",
   "metadata": {},
   "source": [
    "### 1. Introduction to Advanced OOP Concepts\n",
    "\n",
    "#### Overview of Advanced OOP\n",
    "\n",
    "Object-Oriented Programming (OOP) is a programming paradigm based on the concept of objects, which can contain data and code to manipulate that data. Advanced OOP techniques, such as decorators and multiple inheritance, provide powerful tools for structuring and reusing code.\n",
    "\n",
    "#### Importance of Decorators and Multiple Inheritance\n",
    "\n",
    "- **Decorators**: Allow you to modify the behavior of functions or classes without changing their code.\n",
    "- **Multiple Inheritance**: Enables a class to inherit from multiple base classes, promoting code reuse and creating more complex relationships between classes."
   ]
  },
  {
   "cell_type": "markdown",
   "id": "c0b5c0cd-77f7-4b8d-beb5-b4c03c88adcd",
   "metadata": {},
   "source": [
    "### 2. Decorators\n",
    "\n",
    "#### What are Decorators?\n",
    "\n",
    "A decorator is a function that takes another function or class and extends or alters its behavior. Decorators provide a flexible way to inject code into existing functions or methods.\n",
    "\n",
    "#### Function Decorators\n",
    "\n",
    "Function decorators are used to modify or extend the behavior of functions or methods. They are applied using the `@decorator_name` syntax.\n",
    "\n",
    "**Example:**"
   ]
  },
  {
   "cell_type": "code",
   "execution_count": 1,
   "id": "164f85da-df4d-47bc-ae5c-45d98ff99b7b",
   "metadata": {},
   "outputs": [
    {
     "name": "stdout",
     "output_type": "stream",
     "text": [
      "Something is happening before the function is called.\n",
      "Hello!\n",
      "Something is happening after the function is called.\n"
     ]
    }
   ],
   "source": [
    "def my_decorator(func):\n",
    "    def wrapper():\n",
    "        print(\"Something is happening before the function is called.\")\n",
    "        func()\n",
    "        print(\"Something is happening after the function is called.\")\n",
    "    return wrapper\n",
    "\n",
    "@my_decorator\n",
    "def say_hello():\n",
    "    print(\"Hello!\")\n",
    "\n",
    "say_hello()"
   ]
  },
  {
   "cell_type": "markdown",
   "id": "3b8c5293-26ae-4c67-ab38-73ac363b6f94",
   "metadata": {},
   "source": [
    "### Example of a Decorator with Parameters\n",
    "\n",
    "Let’s say you want to create a decorator that logs messages with varying levels of importance (e.g., `info`, `warning`, `error`). You can achieve this by adding parameters to your decorator.\n",
    "\n",
    "Here’s how you can implement it:"
   ]
  },
  {
   "cell_type": "code",
   "execution_count": 2,
   "id": "e8756ec3-d7d7-46bd-ba88-db606069a4d2",
   "metadata": {},
   "outputs": [
    {
     "name": "stdout",
     "output_type": "stream",
     "text": [
      "[INFO] - Something is happening before the function is called.\n",
      "Hello, Alice!\n",
      "[INFO] - Something is happening after the function is called.\n",
      "[WARNING] - Something is happening before the function is called.\n",
      "Goodbye, Bob!\n",
      "[WARNING] - Something is happening after the function is called.\n"
     ]
    }
   ],
   "source": [
    "def log(level):\n",
    "    def decorator(func):\n",
    "        def wrapper(*args, **kwargs):\n",
    "            print(f\"[{level.upper()}] - Something is happening before the function is called.\")\n",
    "            result = func(*args, **kwargs)\n",
    "            print(f\"[{level.upper()}] - Something is happening after the function is called.\")\n",
    "            return result\n",
    "        return wrapper\n",
    "    return decorator\n",
    "\n",
    "@log(\"info\")\n",
    "def say_hello(name):\n",
    "    print(f\"Hello, {name}!\")\n",
    "\n",
    "@log(\"warning\")\n",
    "def say_goodbye(name):\n",
    "    print(f\"Goodbye, {name}!\")\n",
    "\n",
    "say_hello(\"Alice\")\n",
    "say_goodbye(\"Bob\")"
   ]
  },
  {
   "cell_type": "markdown",
   "id": "c7c19423-fdda-4814-8f09-9dcdb762a18e",
   "metadata": {},
   "source": [
    "### Practice Example: Logging Execution Time with Custom Messages\n",
    "\n",
    "In this exercise, you'll create a function decorator that logs the execution time of the decorated function. The decorator should accept a parameter to customize the log message.\n",
    "\n",
    "#### Step-by-Step Instructions:\n",
    "\n",
    "1. **Create the Decorator Function:**\n",
    "   - The decorator should be a function that takes a string parameter `message`.\n",
    "   - Inside the decorator, define an inner decorator function that takes the function to be decorated.\n",
    "   - The inner decorator should define a wrapper function that calculates the execution time of the original function and prints the custom message along with the execution time.\n",
    "\n",
    "2. **Use the Decorator:**\n",
    "   - Apply the decorator to a sample function that performs a sleep.\n",
    "\n",
    "3. **Test the Decorator:**\n",
    "   - Call the decorated function and observe the output.\n",
    "\n",
    "#### Example Implementation:"
   ]
  },
  {
   "cell_type": "code",
   "execution_count": null,
   "id": "575495eb-a110-4888-a7d9-81d81c151ae8",
   "metadata": {},
   "outputs": [],
   "source": [
    "import time\n",
    "\n",
    "# Use `time.time()` to get the current time in seconds (it returns a float number representing the exact time).\n",
    "\n",
    "# Step 1: Create the decorator function with a parameter\n",
    "def log_execution_time(\n",
    "    # ...\n",
    "\n",
    "# Step 3: Test the decorator\n",
    "@log_execution_time(message=\"Starting long-running task\")\n",
    "def long_running_task():\n",
    "    time.sleep(2)\n",
    "    return \"Long task completed\"\n",
    "\n",
    "@log_execution_time(message=\"Starting short-running task\")\n",
    "def quick_task():\n",
    "    time.sleep(0.5)\n",
    "    return \"Quick task completed\"\n",
    "\n",
    "# Test the decorated functions\n",
    "print(long_running_task())\n",
    "print(quick_task())\n",
    "\n",
    "#### Expected Output:\n",
    "# Starting long-running task - Execution time: 2.0019 seconds\n",
    "# Long task completed\n",
    "# Starting short-running task - Execution time: 0.5026 seconds\n",
    "# Quick task completed"
   ]
  },
  {
   "cell_type": "code",
   "execution_count": 4,
   "id": "39a00df1-74d8-4c7a-8d98-b1515759de09",
   "metadata": {
    "jupyter": {
     "source_hidden": true
    }
   },
   "outputs": [
    {
     "name": "stdout",
     "output_type": "stream",
     "text": [
      "Starting long-running task - Execution time: 2.0012 seconds\n",
      "Long task completed\n",
      "Starting short-running task - Execution time: 0.5049 seconds\n",
      "Quick task completed\n"
     ]
    }
   ],
   "source": [
    "# Solution\n",
    "\n",
    "import time\n",
    "\n",
    "# Step 1: Create the decorator function with a parameter\n",
    "def log_execution_time(message):\n",
    "    def decorator(func):\n",
    "        def wrapper(*args, **kwargs):\n",
    "            start_time = time.time()\n",
    "            result = func(*args, **kwargs)\n",
    "            end_time = time.time()\n",
    "            execution_time = end_time - start_time\n",
    "            print(f\"{message} - Execution time: {execution_time:.4f} seconds\")\n",
    "            return result\n",
    "        return wrapper\n",
    "    return decorator\n",
    "\n",
    "# Step 2: Use the decorator on a sample function\n",
    "@log_execution_time(\"Factorial computation\")\n",
    "def factorial(n):\n",
    "    if n == 0:\n",
    "        return 1\n",
    "    else:\n",
    "        return n * factorial(n - 1)\n",
    "\n",
    "# Step 3: Test the decorator\n",
    "@log_execution_time(message=\"Starting long-running task\")\n",
    "def long_running_task():\n",
    "    time.sleep(2)\n",
    "    return \"Long task completed\"\n",
    "\n",
    "@log_execution_time(message=\"Starting short-running task\")\n",
    "def quick_task():\n",
    "    time.sleep(0.5)\n",
    "    return \"Quick task completed\"\n",
    "\n",
    "# Test the decorated functions\n",
    "print(long_running_task())\n",
    "print(quick_task())"
   ]
  },
  {
   "cell_type": "markdown",
   "id": "850a4356-4a86-4ab9-af52-d262192bbe20",
   "metadata": {},
   "source": [
    "### Class Decorators\n",
    "\n",
    "Class decorators are similar to function decorators but are used to modify or extend the behavior of classes.\n",
    "\n",
    "**Example:**"
   ]
  },
  {
   "cell_type": "code",
   "execution_count": 3,
   "id": "35041ad3-1cca-41d6-bc49-71c45fc7e301",
   "metadata": {},
   "outputs": [
    {
     "name": "stdout",
     "output_type": "stream",
     "text": [
      "MyClass instance created.\n",
      "This is a new method added by the decorator.\n"
     ]
    }
   ],
   "source": [
    "def class_decorator(cls):\n",
    "    class NewClass(cls):\n",
    "        def new_method(self):\n",
    "            print(\"This is a new method added by the decorator.\")\n",
    "    return NewClass\n",
    "\n",
    "@class_decorator\n",
    "class MyClass:\n",
    "    def __init__(self):\n",
    "        print(\"MyClass instance created.\")\n",
    "\n",
    "obj = MyClass()\n",
    "obj.new_method()"
   ]
  },
  {
   "cell_type": "markdown",
   "id": "eeb11e12-5de3-4b01-a401-bbfef01a5c13",
   "metadata": {},
   "source": [
    "Class decorators can also have parameters:"
   ]
  },
  {
   "cell_type": "code",
   "execution_count": 4,
   "id": "f39b277c-dcbe-4fbf-b291-1077b686756a",
   "metadata": {},
   "outputs": [
    {
     "name": "stdout",
     "output_type": "stream",
     "text": [
      "MyClass instance created.\n",
      "This is a new method added by the decorator with parameters: Parameter 1, Parameter 2\n"
     ]
    }
   ],
   "source": [
    "def class_decorator_with_params(param1, param2):\n",
    "    def decorator(cls):\n",
    "        class NewClass(cls):\n",
    "            def new_method(self):\n",
    "                print(f\"This is a new method added by the decorator with parameters: {param1}, {param2}\")\n",
    "        return NewClass\n",
    "    return decorator\n",
    "\n",
    "@class_decorator_with_params(\"Parameter 1\", \"Parameter 2\")\n",
    "class MyClass:\n",
    "    def __init__(self):\n",
    "        print(\"MyClass instance created.\")\n",
    "\n",
    "obj = MyClass()\n",
    "obj.new_method()"
   ]
  },
  {
   "cell_type": "markdown",
   "id": "206d29e5-d01c-476b-aabe-c3c8aea7328d",
   "metadata": {},
   "source": [
    "In this example, `class_decorator_with_params` is a decorator that takes two parameters (`param1` and `param2`). Inside this decorator, we define another function `decorator` which is the actual decorator function that takes the class `cls` as an argument. The `NewClass` inside `decorator` extends the original class and adds a new method that uses the parameters passed to the outer decorator.\n",
    "\n",
    "When `@class_decorator_with_params(\"Parameter 1\", \"Parameter 2\")` is used, it decorates `MyClass`, resulting in a new class that includes the `new_method` method with the given parameters."
   ]
  },
  {
   "cell_type": "markdown",
   "id": "efa29138-66af-4b4b-b229-d13232259c15",
   "metadata": {},
   "source": [
    "### Practice Example\n",
    "\n",
    "#### Task Description\n",
    "Write a class decorator named `PrependStr` that takes a single parameter, `message`, and uses it to modify the `__str__` method of any class it decorates. The modified `__str__` method should prepend the `message` to the original string representation of the class.\n",
    "\n",
    "#### Instructions\n",
    "1. Define a class decorator named `PrependStr` that accepts a parameter `message`.\n",
    "2. The decorator should override the `__str__` method of the class it decorates.\n",
    "3. The new `__str__` method should prepend the `message` to the original `__str__` output of the class.\n",
    "\n",
    "#### Example Implementation:"
   ]
  },
  {
   "cell_type": "code",
   "execution_count": null,
   "id": "f8821fac-5eeb-4b60-8006-64b7dadb1e14",
   "metadata": {},
   "outputs": [],
   "source": [
    "# Create the decorator function with a parameter\n",
    "def PrependStr( # ...\n",
    "    # ...\n",
    "\n",
    "# Example decorated class:\n",
    "\n",
    "@PrependStr(\"Info: \")\n",
    "class Person:\n",
    "    def __init__(self, name, age):\n",
    "        self.name = name\n",
    "        self.age = age\n",
    "\n",
    "    def __str__(self):\n",
    "        return f'{self.name} is {self.age} years old'\n",
    "\n",
    "p = Person(\"Alice\", 30)\n",
    "print(p)\n",
    "\n",
    "# Expected output:\n",
    "# Info: Alice is 30 years old"
   ]
  },
  {
   "cell_type": "code",
   "execution_count": 7,
   "id": "693d3bb7-0b8b-40d1-97c9-8aa7575fbbdb",
   "metadata": {
    "jupyter": {
     "source_hidden": true
    }
   },
   "outputs": [
    {
     "name": "stdout",
     "output_type": "stream",
     "text": [
      "Info: Alice is 30 years old\n"
     ]
    }
   ],
   "source": [
    "# Solution\n",
    "\n",
    "def PrependStr(message):\n",
    "    def decorator(cls):\n",
    "        # Save the original __str__ method\n",
    "        original_str = cls.__str__\n",
    "\n",
    "        # Define the new __str__ method\n",
    "        def new_str(self):\n",
    "            return f\"{message}{original_str(self)}\"\n",
    "\n",
    "        # Set the new __str__ method to the class\n",
    "        cls.__str__ = new_str\n",
    "        return cls\n",
    "    return decorator\n",
    "\n",
    "# Example class to be decorated\n",
    "@PrependStr(\"Info: \")\n",
    "class Person:\n",
    "    def __init__(self, name, age):\n",
    "        self.name = name\n",
    "        self.age = age\n",
    "\n",
    "    def __str__(self):\n",
    "        return f'{self.name} is {self.age} years old'\n",
    "\n",
    "# Test the implementation\n",
    "p = Person(\"Alice\", 30)\n",
    "print(p)  # Output should be: Info: Alice is 30 years old"
   ]
  },
  {
   "cell_type": "markdown",
   "id": "220f1bf0-afb3-4c63-8cc6-1dc48d3a0ae1",
   "metadata": {},
   "source": [
    "#### Practical Examples and Use Cases\n",
    "\n",
    "- **Logging**: Automatically log function calls and return values.\n",
    "- **Access Control**: Restrict access to certain methods or functions.\n",
    "- **Memoization**: Cache the results of expensive function calls.\n",
    "\n",
    "Another common example is the `functools` module's `lru_cache` [decorator](https://docs.python.org/3/library/functools.html#functools.lru_cache):"
   ]
  },
  {
   "cell_type": "code",
   "execution_count": 16,
   "id": "d0356b00-149f-4674-91d5-e0d1fce2b144",
   "metadata": {},
   "outputs": [
    {
     "name": "stdout",
     "output_type": "stream",
     "text": [
      "9227465\n",
      "CacheInfo(hits=33, misses=36, maxsize=10, currsize=10)\n"
     ]
    }
   ],
   "source": [
    "import functools\n",
    "\n",
    "# Define a function to compute a value (e.g., Fibonacci numbers)\n",
    "@functools.lru_cache(maxsize=10)\n",
    "def fib(n):\n",
    "    if n < 2:\n",
    "        return n\n",
    "    return fib(n-1) + fib(n-2)\n",
    "\n",
    "# Test the LRU cache\n",
    "print(fib(35)) # Should print 9227465\n",
    "\n",
    "# The LRU cache should have stored the most recent calls up to the max size specified.\n",
    "print(fib.cache_info())  # Prints cache info such as hits, misses, maxsize, and current size\n"
   ]
  },
  {
   "cell_type": "markdown",
   "id": "12e23d65-b326-4f05-84cc-60da0b98baa7",
   "metadata": {},
   "source": [
    "### 3. Multiple Inheritance\n",
    "\n",
    "#### Understanding Inheritance\n",
    "\n",
    "Inheritance allows a class to inherit attributes and methods from another class. Multiple inheritance extends this concept, allowing a class to inherit from more than one base class.\n",
    "\n",
    "#### Basics of Multiple Inheritance\n",
    "\n",
    "**Example:**"
   ]
  },
  {
   "cell_type": "code",
   "execution_count": 17,
   "id": "7995cf89-f5e6-4199-8fe5-63c9a8f3c7f8",
   "metadata": {},
   "outputs": [
    {
     "name": "stdout",
     "output_type": "stream",
     "text": [
      "Method from Base1\n",
      "Method from Base2\n"
     ]
    }
   ],
   "source": [
    "class Base1:\n",
    "    def method1(self):\n",
    "        print(\"Method from Base1\")\n",
    "\n",
    "class Base2:\n",
    "    def method2(self):\n",
    "        print(\"Method from Base2\")\n",
    "\n",
    "class Derived(Base1, Base2):\n",
    "    pass\n",
    "\n",
    "obj = Derived()\n",
    "obj.method1()\n",
    "obj.method2()"
   ]
  },
  {
   "cell_type": "markdown",
   "id": "9cdee1d9-24bc-4fac-864a-696b4c8f9b2a",
   "metadata": {},
   "source": [
    "#### Method Resolution Order (MRO)\n",
    "\n",
    "The Method Resolution Order (MRO) determines the order in which base classes are searched when executing a method. Python uses the [C3 linearization algorithm](https://en.wikipedia.org/wiki/C3_linearization) for this.\n",
    "\n",
    "The following example demonstrates Python's MRO using [diamond problem](https://en.wikipedia.org/wiki/Multiple_inheritance#The_diamond_problem):"
   ]
  },
  {
   "cell_type": "code",
   "execution_count": 21,
   "id": "898a34ab-e7db-4400-8d31-28340cffc046",
   "metadata": {},
   "outputs": [
    {
     "name": "stdout",
     "output_type": "stream",
     "text": [
      "Method from B\n",
      "[<class '__main__.D'>, <class '__main__.B'>, <class '__main__.C'>, <class '__main__.A'>, <class 'object'>]\n"
     ]
    }
   ],
   "source": [
    "class A:\n",
    "    def method(self):\n",
    "        print(\"Method from A\")\n",
    "\n",
    "class B(A):\n",
    "    def method(self):\n",
    "        print(\"Method from B\")\n",
    "\n",
    "class C(A):\n",
    "    def method(self):\n",
    "        print(\"Method from C\")\n",
    "\n",
    "class D(B, C):\n",
    "    pass\n",
    "\n",
    "d = D()\n",
    "d.method()\n",
    "print(D.mro())"
   ]
  },
  {
   "cell_type": "markdown",
   "id": "c8f12904-bfd0-41b6-8ab6-c3444d217e07",
   "metadata": {
    "jp-MarkdownHeadingCollapsed": true,
    "jupyter": {
     "source_hidden": true
    }
   },
   "source": [
    "#### The C3 linearization algorithm\n",
    "\n",
    "The C3 linearization algorithm is used in object-oriented programming to determine the method resolution order (MRO) in languages that support multiple inheritance, such as Python. It ensures that the order of method inheritance is both consistent and predictable. The algorithm is designed to maintain three key properties:\n",
    "\n",
    "1. **Preservation of Local Precedence Order:** The order of classes in the MRO of a class should respect the order of its immediate superclasses.\n",
    "2. **Monotonicity:** The MRO must be linear, meaning if class A is a subclass of class B, then B must appear before A in the MRO.\n",
    "3. **Resolution of Ties:** When multiple classes are candidates for the next position in the MRO, the earliest one in the linearizations of the classes involved is chosen.\n",
    "\n",
    "C3 linearization works by combining the MROs of the parent classes in a specific way. The algorithm proceeds as follows:\n",
    "\n",
    "1. **Start with the current class.**\n",
    "2. **Iterate over each parent class in the order they are listed in the class definition.**\n",
    "3. **For each parent class, merge its MRO with the MROs of its ancestors.**\n",
    "4. **Select the first class in the merged lists that does not appear later in any of the lists (to maintain the precedence order).**\n",
    "5. **Repeat until all classes are processed.**\n",
    "\n",
    "This method ensures that all dependencies and inheritance relationships are respected while resolving ambiguities that can arise from multiple inheritance."
   ]
  },
  {
   "cell_type": "markdown",
   "id": "6f3e289e-69e0-45aa-9461-84c4868686e9",
   "metadata": {},
   "source": [
    "#### Practical Examples and Use Cases\n",
    "\n",
    "- **Mixins**: Reusable components that can be combined with other classes.\n",
    "- **Framework Design**: Creating complex class hierarchies in frameworks.\n",
    "- **Django**: The [Django web framework's](https://www.djangoproject.com/) apps make extensive use of mixins to override built-in functionality (for example the [auth](https://github.com/django/django/blob/main/django/contrib/auth/mixins.py) app).\n",
    "\n",
    "---\n",
    "\n",
    "### 4. Combining Decorators and Multiple Inheritance\n",
    "\n",
    "#### Use Cases of Combining Both Concepts\n",
    "\n",
    "Combining decorators and multiple inheritance can create powerful design patterns and enhance code reuse.\n",
    "\n",
    "**Example:**"
   ]
  },
  {
   "cell_type": "code",
   "execution_count": 26,
   "id": "81843b6b-80eb-4045-94aa-e1dc9e9fcfad",
   "metadata": {},
   "outputs": [
    {
     "name": "stdout",
     "output_type": "stream",
     "text": [
      "Base1 instance created.\n",
      "MyClass instance created.\n",
      "Method from Base1\n",
      "Method from Base2\n"
     ]
    }
   ],
   "source": [
    "def add_logging(cls):\n",
    "    class NewClass(cls):\n",
    "        def __init__(self, *args, **kwargs):\n",
    "            super().__init__(*args, **kwargs)\n",
    "            print(f\"{cls.__name__} instance created.\")\n",
    "    return NewClass\n",
    "\n",
    "@add_logging\n",
    "class Base1:\n",
    "    def method1(self):\n",
    "        print(\"Method from Base1\")\n",
    "\n",
    "class Base2:\n",
    "    def method2(self):\n",
    "        print(\"Method from Base2\")\n",
    "\n",
    "@add_logging\n",
    "class MyClass(Base1, Base2):\n",
    "    pass\n",
    "\n",
    "obj = MyClass()\n",
    "obj.method1()\n",
    "obj.method2()"
   ]
  },
  {
   "cell_type": "markdown",
   "id": "1c80468c-5733-48e6-b209-b27cd152beb4",
   "metadata": {},
   "source": [
    "#### Best Practices and Patterns\n",
    "\n",
    "- Observe the [Single Responsibility Principle (SRP)](https://en.wikipedia.org/wiki/Single-responsibility_principle).\n",
    "- Use clear and descriptive names for decorators and mixins.\n",
    "- Avoid complex inheritance hierarchies that can make code hard to understand.\n",
    "- Document the behavior added by decorators and the role of each base class.\n",
    "\n",
    "---\n",
    "\n",
    "### 5. Exercises and Projects\n",
    "\n",
    "#### Practical Exercises\n",
    "\n",
    "1. **Decorator Exercise**: Create a decorator that caches the results of a function.\n",
    "2. **Multiple Inheritance Exercise**: Design a class hierarchy that uses multiple inheritance to create a complex object.\n",
    "\n",
    "#### Mini Project\n",
    "\n",
    "**Project Title: Task Manager**\n",
    "\n",
    "Create a task manager application that uses multiple inheritance and decorators. The application should:\n",
    "- Use decorators to log task creation and completion.\n",
    "- Use inheritance to create different types of tasks (e.g., EmailTask, FileTask).\n",
    "- Implement a mixin for task prioritization.\n",
    "\n",
    "**Example:**"
   ]
  },
  {
   "cell_type": "code",
   "execution_count": 27,
   "id": "9aa0a88b-2feb-4fe9-b87f-46ff339183e2",
   "metadata": {},
   "outputs": [
    {
     "name": "stdout",
     "output_type": "stream",
     "text": [
      "Task MyTask created.\n",
      "Email sent.\n",
      "Priority set to 1\n",
      "Task completed.\n"
     ]
    }
   ],
   "source": [
    "\n",
    "# Step 1: Create the `log_task_creation` decorator.\n",
    "# Note: use `cls.__name__` to get the class name to print \"Task {class name} created.\" when the __init__\n",
    "# method is called.\n",
    "# def log_task_creation(...\n",
    "# ...\n",
    "\n",
    "# Step 2: Create the `Task` base class, that prints \"Task completed.\" when the `complete` method is called.\n",
    "# ...\n",
    "\n",
    "class EmailTask(Task):\n",
    "    def send_email(self):\n",
    "        print(\"Email sent.\")\n",
    "\n",
    "class FileTask(Task):\n",
    "    def process_file(self):\n",
    "        print(\"File processed.\")\n",
    "\n",
    "# Step 3: Implement the `PrioritizedTask` mixin, that defines the `set_priority` method, which sets the\n",
    "# `priority` attribute of the class as well as prints the new priority.\n",
    "# ...\n",
    "\n",
    "# Step 4: Using the `log_task_creation` decorator the `EmailTask`, and the `PrioritizedTask` mixin, create\n",
    "# `MyTask` class.\n",
    "# ...\n",
    "\n",
    "task = MyTask()\n",
    "task.send_email()\n",
    "task.set_priority(1)\n",
    "task.complete()\n",
    "\n",
    "# Expected output:\n",
    "# Task MyTask created.\n",
    "# Email sent.\n",
    "# Priority set to 1\n",
    "# Task completed."
   ]
  },
  {
   "cell_type": "code",
   "execution_count": 28,
   "id": "0e8ac13a-af1e-4a77-984a-6c83c5ed5d02",
   "metadata": {
    "jupyter": {
     "source_hidden": true
    }
   },
   "outputs": [
    {
     "name": "stdout",
     "output_type": "stream",
     "text": [
      "Task MyTask created.\n",
      "Email sent.\n",
      "Priority set to 1\n",
      "Task completed.\n"
     ]
    }
   ],
   "source": [
    "# Solution\n",
    "\n",
    "def log_task_creation(cls):\n",
    "    class NewClass(cls):\n",
    "        def __init__(self, *args, **kwargs):\n",
    "            super().__init__(*args, **kwargs)\n",
    "            print(f\"Task {cls.__name__} created.\")\n",
    "    return NewClass\n",
    "\n",
    "class Task:\n",
    "    def complete(self):\n",
    "        print(\"Task completed.\")\n",
    "\n",
    "class EmailTask(Task):\n",
    "    def send_email(self):\n",
    "        print(\"Email sent.\")\n",
    "\n",
    "class FileTask(Task):\n",
    "    def process_file(self):\n",
    "        print(\"File processed.\")\n",
    "\n",
    "class PrioritizedTask:\n",
    "    def set_priority(self, priority):\n",
    "        self.priority = priority\n",
    "        print(f\"Priority set to {priority}\")\n",
    "\n",
    "@log_task_creation\n",
    "class MyTask(EmailTask, PrioritizedTask):\n",
    "    pass\n",
    "\n",
    "task = MyTask()\n",
    "task.send_email()\n",
    "task.set_priority(1)\n",
    "task.complete()"
   ]
  },
  {
   "cell_type": "markdown",
   "id": "2d3ba755-f635-4abc-96ec-6e4f57b85ee4",
   "metadata": {},
   "source": [
    "---\n",
    "\n",
    "### Conclusion\n",
    "\n",
    "In this course, you learned about advanced OOP concepts in Python, focusing on decorators and multiple inheritance. These powerful tools enable you to write more flexible and reusable code, enhancing your programming skills and allowing you to tackle more complex projects.\n",
    "\n",
    "### Sources\n",
    "\n",
    "* [PEP 318 – Decorators for Functions and Methods](https://peps.python.org/pep-0318/)\n",
    "* [PEP 3129 – Class Decorators](https://peps.python.org/pep-3129/)\n",
    "* [functools lru chache](https://docs.python.org/3/library/functools.html#functools.lru_cache)\n",
    "* [C3 linearization algorithm](https://en.wikipedia.org/wiki/C3_linearization)\n",
    "* [diamond problem](https://en.wikipedia.org/wiki/Multiple_inheritance#The_diamond_problem)\n",
    "* [Django web framework's](https://www.djangoproject.com/)\n",
    "* [Django auth app mixins](https://github.com/django/django/blob/main/django/contrib/auth/mixins.py)\n",
    "* [Single Responsibility Principle (SRP)](https://en.wikipedia.org/wiki/Single-responsibility_principle)\n",
    "\n",
    "## Some advanced examples\n",
    "\n",
    "The following examples are optional course material. They serve to further demonstrate the usage of mixins and decorators. These examples also serve as a slight transition to the following course topic, which deals with python's built-in iterator functions and itertools module.\n",
    "\n",
    "This first example demonstrates a data processing pipeline using a combination of decorators, mixins, and classes to manage and log execution time for various processing stages.\n",
    "\n",
    "**What It Demonstrates:**\n",
    "\n",
    "- **Decorator Usage:** The `@log_execution_time` decorator is used to measure and log the time taken by each processing stage.\n",
    "- **Mixin Usage:** The `DataProcessingPipeline` class uses multiple inheritance to incorporate functionality from different stages (`FilterStage`, `MapStage`, `ReduceStage`), demonstrating how mixins can be used to compose behavior from multiple sources.\n",
    "- **Processing Pipeline:** The example showcases a simple data processing pipeline where data is transformed through multiple stages, with each stage being accountable for a specific transformation task.\n",
    "\n",
    "**Notes:**\n",
    "\n",
    " - The code snippet relies on built-in functions `filter`, `map`, and `sum`.\n",
    " - Such functionality would usually not be implemented this way, because in this implementation, `DataProcessingPipeline` is rigid and hard to customize.\n",
    " - Chained or composed functions or a list passed to the `DataProcessingPipeline`'s constructor could be used instead."
   ]
  },
  {
   "cell_type": "code",
   "execution_count": 33,
   "id": "cf2536fc-3b6e-46c2-b064-76946d374b39",
   "metadata": {},
   "outputs": [
    {
     "name": "stdout",
     "output_type": "stream",
     "text": [
      "process executed in 0.0000 seconds\n",
      "process executed in 0.0000 seconds\n",
      "process executed in 0.3519 seconds\n",
      "Final result: 499999000000\n"
     ]
    }
   ],
   "source": [
    "import time\n",
    "\n",
    "# Logging Decorator\n",
    "def log_execution_time(method):\n",
    "    def wrapper(*args, **kwargs):\n",
    "        start_time = time.time()\n",
    "        result = method(*args, **kwargs)\n",
    "        end_time = time.time()\n",
    "        print(f\"{method.__name__} executed in {end_time - start_time:.4f} seconds\")\n",
    "        return result\n",
    "    return wrapper\n",
    "\n",
    "# Processing Stages\n",
    "class FilterStage:\n",
    "    @log_execution_time\n",
    "    def process(self, data):\n",
    "        return filter(lambda x: x % 2 == 0, data)\n",
    "\n",
    "class MapStage:\n",
    "    @log_execution_time\n",
    "    def process(self, data):\n",
    "        return map(lambda x: x * 2, data)\n",
    "\n",
    "class ReduceStage:\n",
    "    @log_execution_time\n",
    "    def process(self, data):\n",
    "        return sum(data)\n",
    "\n",
    "# Combine Stages\n",
    "class DataProcessingPipeline(FilterStage, MapStage, ReduceStage):\n",
    "    def run(self, data):\n",
    "        data = FilterStage.process(self, data)  # Explicitly call FilterStage's process method\n",
    "        data = MapStage.process(self, data)  # Explicitly call MapStage's process method\n",
    "        data = ReduceStage.process(self, data)  # Explicitly call ReduceStage's process method\n",
    "        return data\n",
    "\n",
    "# Create and run the pipeline\n",
    "pipeline = DataProcessingPipeline()\n",
    "data = range(1000000)\n",
    "result = pipeline.run(data)\n",
    "print(f\"Final result: {result}\")\n"
   ]
  },
  {
   "cell_type": "code",
   "execution_count": null,
   "id": "2aecb52c-67d4-441e-9a6c-48a63d447406",
   "metadata": {},
   "outputs": [],
   "source": []
  }
 ],
 "metadata": {
  "kernelspec": {
   "display_name": "Python 3 (ipykernel)",
   "language": "python",
   "name": "python3"
  },
  "language_info": {
   "codemirror_mode": {
    "name": "ipython",
    "version": 3
   },
   "file_extension": ".py",
   "mimetype": "text/x-python",
   "name": "python",
   "nbconvert_exporter": "python",
   "pygments_lexer": "ipython3",
   "version": "3.12.4"
  }
 },
 "nbformat": 4,
 "nbformat_minor": 5
}
